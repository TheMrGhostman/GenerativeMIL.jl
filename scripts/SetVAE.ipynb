{
 "cells": [
  {
   "cell_type": "code",
   "execution_count": 1,
   "id": "d0a1a786",
   "metadata": {},
   "outputs": [
    {
     "name": "stderr",
     "output_type": "stream",
     "text": [
      "┌ Info: Precompiling GenerativeMIL [4ec10b0d-33ec-5e6b-88b9-838b82d80493]\n",
      "└ @ Base loading.jl:1423\n",
      "WARNING: Method definition attention(AbstractArray{T, 4}, AbstractArray{T, 4}, AbstractArray{T, 4}) where {T<:Real} in module Models at F:\\AI Center\\GenerativeMIL\\src\\models\\utils\\attention.jl:108 overwritten at F:\\AI Center\\GenerativeMIL\\src\\models\\utils\\attention.jl:122.\n",
      "  ** incremental compilation may be fatally broken for this module **\n",
      "\n",
      "WARNING: Method definition Any(AbstractArray{T, N} where N, AbstractArray{T, N} where N) where {T<:Real} in module Models at F:\\AI Center\\GenerativeMIL\\src\\models\\utils\\layers.jl:19 overwritten at F:\\AI Center\\GenerativeMIL\\src\\models\\utils\\layers.jl:26.\n",
      "  ** incremental compilation may be fatally broken for this module **\n",
      "\n",
      "WARNING: Method definition Any(AbstractArray{T, N} where N) where {T<:Real} in module Models at F:\\AI Center\\GenerativeMIL\\src\\models\\utils\\layers.jl:56 overwritten at F:\\AI Center\\GenerativeMIL\\src\\models\\utils\\layers.jl:66.\n",
      "  ** incremental compilation may be fatally broken for this module **\n",
      "\n",
      "WARNING: Method definition Any(AbstractArray{T, N} where N) where {T<:Real} in module Models at F:\\AI Center\\GenerativeMIL\\src\\models\\utils\\layers.jl:94 overwritten at F:\\AI Center\\GenerativeMIL\\src\\models\\utils\\layers.jl:103.\n",
      "  ** incremental compilation may be fatally broken for this module **\n",
      "\n",
      "WARNING: Method definition Any(AbstractArray{T, N} where N, AbstractArray{T, N} where N) where {T<:Real} in module Models at F:\\AI Center\\GenerativeMIL\\src\\models\\utils\\layers.jl:196 overwritten at F:\\AI Center\\GenerativeMIL\\src\\models\\utils\\layers.jl:210.\n",
      "  ** incremental compilation may be fatally broken for this module **\n",
      "\n"
     ]
    }
   ],
   "source": [
    "using DrWatson\n",
    "using GenerativeMIL\n",
    "using Flux\n",
    "using Flux3D: chamfer_distance\n",
    "using MLDataPattern\n",
    "using ProgressMeter: Progress, next!\n",
    "using PaddedViews"
   ]
  },
  {
   "cell_type": "code",
   "execution_count": 2,
   "id": "c3da81cc",
   "metadata": {},
   "outputs": [
    {
     "data": {
      "text/plain": [
       "ChamferDistanceLoss (generic function with 1 method)"
      ]
     },
     "execution_count": 2,
     "metadata": {},
     "output_type": "execute_result"
    }
   ],
   "source": [
    "using Distances\n",
    "\n",
    "function SumMinDist(A, B)\n",
    "    # minimum_{j}(|| a_i - b_j||^2)\n",
    "    # Chamfer Distance between two 2D!! sets / bags / point clouds\n",
    "    # A ∈ R^{N,D} , B ∈ R^{M,D}\n",
    "    dist = Distances.pairwise(SqEuclidean(), A, B, dims=1) # -> distance matrix R^{N,M}\n",
    "    dist = minimum(dist, dims=2) # over j\n",
    "    return Flux.sum(dist)\n",
    "end\n",
    "\n",
    "function ChamferDistanceLoss(x_true, x_pred)\n",
    "    # x ∈ R ^ {D, Ni, bs}\n",
    "    if ndims(x_true) == ndims(x_pred) == 3\n",
    "        total_loss = 0\n",
    "        bs = size(x_true, 3)\n",
    "        for i in 1:bs\n",
    "            dist_to_x = SumMinDist(x_true[:,:,i], x_pred[:,:,i]) \n",
    "            dist_to_y = SumMinDist(x_pred[:,:,i], x_true[:,:,i])\n",
    "            chamfer_instance = dist_to_x + dist_to_y\n",
    "            total_loss += chamfer_instance\n",
    "        end\n",
    "    elseif ndims(x_true) == ndims(x_pred) == 2\n",
    "        bs = 1\n",
    "        dist_to_x = SumMinDist(x_true, x_pred) \n",
    "        dist_to_y = SumMinDist(x_pred, x_true)\n",
    "        chamfer_instance = dist_to_x + dist_to_y\n",
    "        total_loss = chamfer_instance \n",
    "    else\n",
    "        error(\"Unsupported input sizes!! | x_pred $(size(x_pred)) | x_true $(size(x_true))\")\n",
    "    end\n",
    "    return total_loss / bs\n",
    "end"
   ]
  },
  {
   "cell_type": "code",
   "execution_count": 3,
   "id": "6c8fd4cd",
   "metadata": {},
   "outputs": [
    {
     "data": {
      "text/plain": [
       "loss_f (generic function with 2 methods)"
      ]
     },
     "execution_count": 3,
     "metadata": {},
     "output_type": "execute_result"
    }
   ],
   "source": [
    "function loss_f(m::GenerativeMIL.Models.SetVAE, x::AbstractArray{<:Real}, x_mask::AbstractArray{Bool}, β::Float32=0.01f0)\n",
    "    #encoder\n",
    "    x1 = m.encoder.expansion(x) .* x_mask\n",
    "    x1, h_enc1 = m.encoder.layers[1](x1, x_mask)\n",
    "    x1, h_enc2 = m.encoder.layers[2](x1, x_mask)\n",
    "    x1, h_enc3 = m.encoder.layers[3](x1, x_mask)\n",
    "    x1, h_enc4 = m.encoder.layers[4](x1, x_mask)\n",
    "    \n",
    "    #println(\"encoder\", x1)\n",
    "    _, sample_size, bs = size(x_mask)\n",
    "    z = m.prior(sample_size, bs)\n",
    "    #println(\"sampling\", z)\n",
    "    #decoder\n",
    "    klds = 0\n",
    "    x1 = m.decoder.expansion(z) .* x_mask\n",
    "    x1, kld, _,_ = m.decoder.layers[1](x1, h_enc4, x_mask)\n",
    "    klds += kld\n",
    "    x1, kld, _,_ = m.decoder.layers[2](x1, h_enc3, x_mask)\n",
    "    klds += kld\n",
    "    x1, kld, _,_ = m.decoder.layers[3](x1, h_enc2, x_mask)\n",
    "    klds += kld\n",
    "    x1, kld, _,_ = m.decoder.layers[4](x1, h_enc1, x_mask)\n",
    "    klds += kld\n",
    "    x1 = m.decoder.reduction(x1) .* x_mask\n",
    "    #println(\"decoder\", x1)\n",
    "    #loss = ChamferDistanceLoss(x, x1) + β * klds\n",
    "    loss = chamfer_distance(x, x1) + β * klds\n",
    "end"
   ]
  },
  {
   "cell_type": "code",
   "execution_count": 24,
   "id": "1e50ce63",
   "metadata": {},
   "outputs": [
    {
     "data": {
      "text/plain": [
       "transform_batch1 (generic function with 1 method)"
      ]
     },
     "execution_count": 24,
     "metadata": {},
     "output_type": "execute_result"
    }
   ],
   "source": [
    "function transform_batch1(x)\n",
    "    a_mask = [ones(size(a)) for a in x];\n",
    "    max_set = minimum(size.(x))[end]; #minimum\n",
    "    b = map(a->Array(PaddedView(0, a, (3, max_set))), x);\n",
    "    b_mask = map(a->Array(PaddedView(0, a, (3, max_set))), a_mask);\n",
    "    c = cat(b..., dims=3);\n",
    "    c_mask = cat(b_mask..., dims=3) .> 0; # mask as BitArray\n",
    "    c_mask = Array(c_mask[1:1,:,:]);\n",
    "    return c, c_mask\n",
    "end"
   ]
  },
  {
   "cell_type": "code",
   "execution_count": 25,
   "id": "eff054df",
   "metadata": {},
   "outputs": [
    {
     "name": "stderr",
     "output_type": "stream",
     "text": [
      "┌ Info: train standardized μ = [14.010735081757533; 13.027597697882937; 174.257433938215;;], σ = [4.270086778902686; 5.572331140597686; 87.89041202121322;;]\n",
      "└ @ GenerativeMIL.Models F:\\AI Center\\GenerativeMIL\\src\\models\\utils\\dataset.jl:137\n"
     ]
    }
   ],
   "source": [
    "train, test = GenerativeMIL.Models.load_and_standardize_mnist();"
   ]
  },
  {
   "cell_type": "code",
   "execution_count": 34,
   "id": "49aecc7e",
   "metadata": {},
   "outputs": [
    {
     "data": {
      "text/plain": [
       "RandomBatches(::Vector{Any}, 32, ObsDim.Last())\n",
       " Iterator providing Inf batches of size 32"
      ]
     },
     "execution_count": 34,
     "metadata": {},
     "output_type": "execute_result"
    }
   ],
   "source": [
    "dataloader = RandomBatches(train[1], size=32)"
   ]
  },
  {
   "cell_type": "code",
   "execution_count": 35,
   "id": "6425fa55",
   "metadata": {},
   "outputs": [],
   "source": [
    "sv = GenerativeMIL.Models.SetVAE(3,64,4,[16,8,4,1], [2,4,8,16], 3, 32);"
   ]
  },
  {
   "cell_type": "code",
   "execution_count": 36,
   "id": "e2496c25",
   "metadata": {},
   "outputs": [
    {
     "data": {
      "text/plain": [
       "(4,)"
      ]
     },
     "execution_count": 36,
     "metadata": {},
     "output_type": "execute_result"
    }
   ],
   "source": [
    "sv.encoder.layers|>size"
   ]
  },
  {
   "cell_type": "code",
   "execution_count": 37,
   "id": "4190f464",
   "metadata": {},
   "outputs": [
    {
     "data": {
      "text/plain": [
       "ADAM(0.001, (0.9, 0.999), 1.0e-8, IdDict{Any, Any}())"
      ]
     },
     "execution_count": 37,
     "metadata": {},
     "output_type": "execute_result"
    }
   ],
   "source": [
    "sv_tmp = deepcopy(sv);\n",
    "ps = Flux.params(sv);\n",
    "opt = ADAM()"
   ]
  },
  {
   "cell_type": "code",
   "execution_count": 38,
   "id": "eb01286c",
   "metadata": {},
   "outputs": [],
   "source": [
    "#loss, back = Flux.pullback(ps) do \n",
    "#    loss_f(sv, x, x_mask, 0f0) \n",
    "#end;"
   ]
  },
  {
   "cell_type": "code",
   "execution_count": 39,
   "id": "5be810b5",
   "metadata": {},
   "outputs": [],
   "source": [
    "#grad = back(1f0);\n",
    "#Flux.Optimise.update!(opt, ps, grad);"
   ]
  },
  {
   "cell_type": "code",
   "execution_count": 40,
   "id": "9eb9f6ef",
   "metadata": {},
   "outputs": [
    {
     "data": {
      "text/plain": [
       "Any[]"
      ]
     },
     "execution_count": 40,
     "metadata": {},
     "output_type": "execute_result"
    }
   ],
   "source": [
    "losses = []"
   ]
  },
  {
   "cell_type": "code",
   "execution_count": 41,
   "id": "6e2e3cd2",
   "metadata": {},
   "outputs": [
    {
     "name": "stderr",
     "output_type": "stream",
     "text": [
      "┌ Warning: ProgressMeter by default refresh meters with additional information in IJulia via `IJulia.clear_output`, which clears all outputs in the cell. \n",
      "│  - To prevent this behaviour, do `ProgressMeter.ijulia_behavior(:append)`. \n",
      "│  - To disable this warning message, do `ProgressMeter.ijulia_behavior(:clear)`.\n",
      "└ @ ProgressMeter C:\\Users\\ghost_000\\.julia\\packages\\ProgressMeter\\sN2xr\\src\\ProgressMeter.jl:618\n",
      "\r",
      "\u001b[32mProgress: 100%|█████████████████████████████████████████| Time: 0:02:49\u001b[39m\r\n",
      "\u001b[34m  iters:  1000/1000\u001b[39m\r\n",
      "\u001b[34m  loss:   0.5159548032096546\u001b[39m\n"
     ]
    }
   ],
   "source": [
    "progress = Progress(1000)\n",
    "beta = 0.01f0\n",
    "for (i, batch) in enumerate(dataloader)\n",
    "    x, x_mask = transform_batch1(batch)#GenerativeMIL.Models.transform_batch(batch)\n",
    "    x = Float32.(x)\n",
    "    #println(x|>size, x_mask|>size)\n",
    "    loss, back = Flux.pullback(ps) do \n",
    "        loss_f(sv, x, x_mask, beta) \n",
    "    end;\n",
    "    grad = back(1f0);\n",
    "    Flux.Optimise.update!(opt, ps, grad);\n",
    "    #@info \"loss = $(loss)\"\n",
    "    push!(losses, loss)\n",
    "    next!(progress; showvalues=[(:iters, \"$(i)/$(1000)\"),(:loss, loss)])\n",
    "    if i == 10000\n",
    "        beta = 0.01f0\n",
    "    elseif i ==1000\n",
    "        break\n",
    "    end\n",
    "end"
   ]
  },
  {
   "cell_type": "code",
   "execution_count": 14,
   "id": "37aa4a28",
   "metadata": {},
   "outputs": [],
   "source": [
    "#print(Flux.mean(Flux.params(sv_tmp.encoder).==Flux.params(sv.encoder)))\n",
    "#print(Flux.mean(Flux.params(sv_tmp.decoder).==Flux.params(sv.decoder)))\n",
    "#print(Flux.mean(Flux.params(sv_tmp.prior).==Flux.params(sv.prior)))"
   ]
  },
  {
   "cell_type": "code",
   "execution_count": 15,
   "id": "20a1a11d",
   "metadata": {},
   "outputs": [
    {
     "ename": "LoadError",
     "evalue": "syntax: break or continue outside loop",
     "output_type": "error",
     "traceback": [
      "syntax: break or continue outside loop",
      "",
      "Stacktrace:",
      " [1] top-level scope",
      "   @ In[15]:1",
      " [2] eval",
      "   @ .\\boot.jl:373 [inlined]",
      " [3] include_string(mapexpr::typeof(REPL.softscope), mod::Module, code::String, filename::String)",
      "   @ Base .\\loading.jl:1196"
     ]
    }
   ],
   "source": [
    "break"
   ]
  },
  {
   "cell_type": "code",
   "execution_count": 42,
   "id": "9b08fcd1",
   "metadata": {},
   "outputs": [],
   "source": [
    "using PyPlot"
   ]
  },
  {
   "cell_type": "code",
   "execution_count": 43,
   "id": "115fdb92",
   "metadata": {},
   "outputs": [
    {
     "data": {
      "image/png": "[encoded data removed]",
      "text/plain": [
       "Figure(PyObject <Figure size 640x480 with 1 Axes>)"
      ]
     },
     "metadata": {},
     "output_type": "display_data"
    },
    {
     "data": {
      "text/plain": [
       "1-element Vector{PyCall.PyObject}:\n",
       " PyObject <matplotlib.lines.Line2D object at 0x0000000002387E20>"
      ]
     },
     "execution_count": 43,
     "metadata": {},
     "output_type": "execute_result"
    }
   ],
   "source": [
    "plot(losses)"
   ]
  },
  {
   "cell_type": "code",
   "execution_count": 55,
   "id": "35a53cd6",
   "metadata": {},
   "outputs": [],
   "source": [
    "xx = 0\n",
    "xx_mask = 0\n",
    "for test in dataloader\n",
    "    xx, xx_mask = transform_batch1(test)\n",
    "    xx = Float32.(xx)\n",
    "    break\n",
    "end"
   ]
  },
  {
   "cell_type": "code",
   "execution_count": 56,
   "id": "43752783",
   "metadata": {},
   "outputs": [
    {
     "data": {
      "text/plain": [
       "forw (generic function with 2 methods)"
      ]
     },
     "execution_count": 56,
     "metadata": {},
     "output_type": "execute_result"
    }
   ],
   "source": [
    "function forw(m::GenerativeMIL.Models.SetVAE, x::AbstractArray{<:Real}, x_mask::AbstractArray{Bool}, β::Float32=0.01f0)\n",
    "    #encoder\n",
    "    x1 = m.encoder.expansion(x) .* x_mask\n",
    "    x1, h_enc1 = m.encoder.layers[1](x1, x_mask)\n",
    "    x1, h_enc2 = m.encoder.layers[2](x1, x_mask)\n",
    "    x1, h_enc3 = m.encoder.layers[3](x1, x_mask)\n",
    "    x1, h_enc4 = m.encoder.layers[4](x1, x_mask)\n",
    "    \n",
    "    _, sample_size, bs = size(x_mask)\n",
    "    z = m.prior(sample_size, bs)\n",
    "    \n",
    "    #decoder\n",
    "    klds = 0\n",
    "    x1 = m.decoder.expansion(z) .* x_mask\n",
    "    x1, kld, _,_ = m.decoder.layers[1](x1, h_enc4, x_mask)\n",
    "    klds += kld\n",
    "    x1, kld, _,_ = m.decoder.layers[2](x1, h_enc3, x_mask)\n",
    "    klds += kld\n",
    "    x1, kld, _,_ = m.decoder.layers[3](x1, h_enc2, x_mask)\n",
    "    klds += kld\n",
    "    x1, kld, _,_ = m.decoder.layers[4](x1, h_enc1, x_mask)\n",
    "    klds += kld\n",
    "    x1 = m.decoder.reduction(x1) .* x_mask\n",
    "    #loss = ChamferDistanceLoss(x, x1) + β * klds\n",
    "    return x1\n",
    "end"
   ]
  },
  {
   "cell_type": "code",
   "execution_count": 57,
   "id": "16dd240a",
   "metadata": {},
   "outputs": [],
   "source": [
    "y = forw(sv, xx, xx_mask);"
   ]
  },
  {
   "cell_type": "code",
   "execution_count": 58,
   "id": "1a9180c1",
   "metadata": {},
   "outputs": [],
   "source": [
    "y = y[:,:,1];"
   ]
  },
  {
   "cell_type": "code",
   "execution_count": 21,
   "id": "8bcd3ff4",
   "metadata": {},
   "outputs": [
    {
     "data": {
      "text/plain": [
       "Any[]"
      ]
     },
     "execution_count": 21,
     "metadata": {},
     "output_type": "execute_result"
    }
   ],
   "source": [
    "losses"
   ]
  },
  {
   "cell_type": "code",
   "execution_count": null,
   "id": "40c5589e",
   "metadata": {},
   "outputs": [],
   "source": [
    "using DelimitedFiles\n",
    "outdata = Dict(:data => losses)\n",
    "save(\"losses1.bson\", outdata)"
   ]
  }
 ],
 "metadata": {
  "@webio": {
   "lastCommId": null,
   "lastKernelId": null
  },
  "kernelspec": {
   "display_name": "Julia 1.7.2",
   "language": "julia",
   "name": "julia-1.7"
  },
  "language_info": {
   "file_extension": ".jl",
   "mimetype": "application/julia",
   "name": "julia",
   "version": "1.7.2"
  }
 },
 "nbformat": 4,
 "nbformat_minor": 5
}
