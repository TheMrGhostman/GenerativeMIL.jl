{
 "cells": [
  {
   "cell_type": "code",
   "execution_count": 1,
   "id": "d0a1a786",
   "metadata": {},
   "outputs": [
    {
     "name": "stderr",
     "output_type": "stream",
     "text": [
      "┌ Info: Precompiling GenerativeMIL [4ec10b0d-33ec-5e6b-88b9-838b82d80493]\n",
      "└ @ Base loading.jl:1423\n",
      "WARNING: Method definition attention(AbstractArray{T, 4}, AbstractArray{T, 4}, AbstractArray{T, 4}) where {T<:Real} in module Models at F:\\AI Center\\GenerativeMIL\\src\\models\\utils\\attention.jl:116 overwritten at F:\\AI Center\\GenerativeMIL\\src\\models\\utils\\attention.jl:130.\n",
      "  ** incremental compilation may be fatally broken for this module **\n",
      "\n",
      "WARNING: Method definition Any(AbstractArray{T, N} where N, AbstractArray{T, N} where N) where {T<:Real} in module Models at F:\\AI Center\\GenerativeMIL\\src\\models\\utils\\layers.jl:27 overwritten at F:\\AI Center\\GenerativeMIL\\src\\models\\utils\\layers.jl:34.\n",
      "  ** incremental compilation may be fatally broken for this module **\n",
      "\n",
      "WARNING: Method definition Any(AbstractArray{T, N} where N) where {T<:Real} in module Models at F:\\AI Center\\GenerativeMIL\\src\\models\\utils\\layers.jl:71 overwritten at F:\\AI Center\\GenerativeMIL\\src\\models\\utils\\layers.jl:81.\n",
      "  ** incremental compilation may be fatally broken for this module **\n",
      "\n",
      "WARNING: Method definition Any(AbstractArray{T, N} where N) where {T<:Real} in module Models at F:\\AI Center\\GenerativeMIL\\src\\models\\utils\\layers.jl:114 overwritten at F:\\AI Center\\GenerativeMIL\\src\\models\\utils\\layers.jl:123.\n",
      "  ** incremental compilation may be fatally broken for this module **\n",
      "\n",
      "WARNING: Method definition Any(AbstractArray{T, N} where N, AbstractArray{T, N} where N) where {T<:Real} in module Models at F:\\AI Center\\GenerativeMIL\\src\\models\\utils\\layers.jl:229 overwritten at F:\\AI Center\\GenerativeMIL\\src\\models\\utils\\layers.jl:243.\n",
      "  ** incremental compilation may be fatally broken for this module **\n",
      "\n"
     ]
    }
   ],
   "source": [
    "using DrWatson\n",
    "using GenerativeMIL\n",
    "using Flux\n",
    "using Flux3D: chamfer_distance\n",
    "using MLDataPattern\n",
    "using ProgressMeter: Progress, next!\n",
    "using PaddedViews\n",
    "using PyPlot\n",
    "using Distances"
   ]
  },
  {
   "cell_type": "code",
   "execution_count": 2,
   "id": "474f8cb8",
   "metadata": {},
   "outputs": [
    {
     "data": {
      "text/plain": [
       "masked_chamfer_distance (generic function with 1 method)"
      ]
     },
     "execution_count": 2,
     "metadata": {},
     "output_type": "execute_result"
    }
   ],
   "source": [
    "function unmask(x, mask, output_dim=3)\n",
    "    x = reshape(x, (output_dim,:))\n",
    "    mask = reshape(mask, (1,:))\n",
    "    x_masked = ones(size(x)...) .* mask\n",
    "    x = reshape(x[x_masked .== 1], (output_dim,:))\n",
    "    return x\n",
    "end\n",
    "\n",
    "function masked_chamfer_distance(x, y, x_mask, y_mask)\n",
    "    return Flux.mean([\n",
    "            chamfer_distance(\n",
    "                unmask(x[:,:,i:i],x_mask[:,:,i:i]), \n",
    "                unmask(y[:,:,i:i],y_mask[:,:,i:i])\n",
    "            ) for i=1:size(x,1)])\n",
    "end"
   ]
  },
  {
   "cell_type": "code",
   "execution_count": 3,
   "id": "6c8fd4cd",
   "metadata": {},
   "outputs": [
    {
     "data": {
      "text/plain": [
       "loss_f (generic function with 2 methods)"
      ]
     },
     "execution_count": 3,
     "metadata": {},
     "output_type": "execute_result"
    }
   ],
   "source": [
    "function loss_f(m::GenerativeMIL.Models.SetVAE, x::AbstractArray{<:Real}, x_mask::AbstractArray{Bool}, β::Float32=0.01f0)\n",
    "    #encoder\n",
    "    x1 = m.encoder.expansion(x) .* x_mask\n",
    "    x1, h_enc1 = m.encoder.layers[1](x1, x_mask)\n",
    "    x1, h_enc2 = m.encoder.layers[2](x1, x_mask)\n",
    "    x1, h_enc3 = m.encoder.layers[3](x1, x_mask)\n",
    "    x1, h_enc4 = m.encoder.layers[4](x1, x_mask)\n",
    "    \n",
    "    #println(\"encoder\", x1)\n",
    "    _, sample_size, bs = size(x_mask)\n",
    "    z = m.prior(sample_size, bs)\n",
    "    #println(\"sampling\", z)\n",
    "    #decoder\n",
    "    klds = 0\n",
    "    x1 = m.decoder.expansion(z) .* x_mask\n",
    "    x1, kld, _,_ = m.decoder.layers[1](x1, h_enc4, x_mask)\n",
    "    klds += kld\n",
    "    x1, kld, _,_ = m.decoder.layers[2](x1, h_enc3, x_mask)\n",
    "    klds += kld\n",
    "    x1, kld, _,_ = m.decoder.layers[3](x1, h_enc2, x_mask)\n",
    "    klds += kld\n",
    "    x1, kld, _,_ = m.decoder.layers[4](x1, h_enc1, x_mask)\n",
    "    klds += kld\n",
    "    x1 = m.decoder.reduction(x1) .* x_mask\n",
    "    #println(\"decoder\", x1)\n",
    "    loss = masked_chamfer_distance(x, x1, x_mask, x_mask) + β * klds\n",
    "    #loss = Flux.mse(x,x1) + β * klds\n",
    "    #loss = chamfer_distance(x, x1) + β * klds\n",
    "    return loss, klds, Flux.var(x1)\n",
    "end"
   ]
  },
  {
   "cell_type": "code",
   "execution_count": 3,
   "id": "1e50ce63",
   "metadata": {},
   "outputs": [
    {
     "data": {
      "text/plain": [
       "transform_batch1 (generic function with 2 methods)"
      ]
     },
     "execution_count": 3,
     "metadata": {},
     "output_type": "execute_result"
    }
   ],
   "source": [
    "function transform_batch1(x, max=false)\n",
    "    a_mask = [ones(size(a)) for a in x];\n",
    "    if max\n",
    "        max_set = maximum(size.(x))[end];\n",
    "    else\n",
    "        max_set = minimum(size.(x))[end]; #minimum\n",
    "    end\n",
    "    b = map(a->Array{Float32}(PaddedView(0, a, (3, max_set))), x);\n",
    "    b_mask = map(a->Array(PaddedView(0, a, (3, max_set))), a_mask);\n",
    "    c = cat(b..., dims=3);\n",
    "    c_mask = cat(b_mask..., dims=3) .> 0; # mask as BitArray\n",
    "    c_mask = Array(c_mask[1:1,:,:]);\n",
    "    return c, c_mask\n",
    "end"
   ]
  },
  {
   "cell_type": "code",
   "execution_count": 4,
   "id": "eff054df",
   "metadata": {},
   "outputs": [
    {
     "name": "stderr",
     "output_type": "stream",
     "text": [
      "┌ Info: train standardized μ = [14.010735081757533; 13.027597697882937; 174.257433938215;;], σ = [4.270086778902686; 5.572331140597686; 87.89041202121322;;]\n",
      "└ @ GenerativeMIL.Models F:\\AI Center\\GenerativeMIL\\src\\models\\utils\\dataset.jl:137\n"
     ]
    }
   ],
   "source": [
    "train, test = GenerativeMIL.Models.load_and_standardize_mnist();"
   ]
  },
  {
   "cell_type": "code",
   "execution_count": 5,
   "id": "49aecc7e",
   "metadata": {},
   "outputs": [
    {
     "data": {
      "text/plain": [
       "RandomBatches(::Vector{Any}, 32, ObsDim.Last())\n",
       " Iterator providing Inf batches of size 32"
      ]
     },
     "execution_count": 5,
     "metadata": {},
     "output_type": "execute_result"
    }
   ],
   "source": [
    "dataloader = RandomBatches(train[1], size=32)"
   ]
  },
  {
   "cell_type": "code",
   "execution_count": 9,
   "id": "eb01286c",
   "metadata": {},
   "outputs": [],
   "source": [
    "#loss, back = Flux.pullback(ps) do \n",
    "#    loss_f(sv, x, x_mask, 0f0) \n",
    "#end;"
   ]
  },
  {
   "cell_type": "code",
   "execution_count": 10,
   "id": "5be810b5",
   "metadata": {},
   "outputs": [],
   "source": [
    "#grad = back(1f0);\n",
    "#Flux.Optimise.update!(opt, ps, grad);"
   ]
  },
  {
   "cell_type": "code",
   "execution_count": 43,
   "id": "6e2e3cd2",
   "metadata": {},
   "outputs": [
    {
     "name": "stderr",
     "output_type": "stream",
     "text": [
      "┌ Warning: ProgressMeter by default refresh meters with additional information in IJulia via `IJulia.clear_output`, which clears all outputs in the cell. \n",
      "│  - To prevent this behaviour, do `ProgressMeter.ijulia_behavior(:append)`. \n",
      "│  - To disable this warning message, do `ProgressMeter.ijulia_behavior(:clear)`.\n",
      "└ @ ProgressMeter C:\\Users\\ghost_000\\.julia\\packages\\ProgressMeter\\sN2xr\\src\\ProgressMeter.jl:618\n",
      "\r",
      "\u001b[32mProgress: 100%|█████████████████████████████████████████| Time: 0:05:40\u001b[39m\r\n",
      "\u001b[34m  iters:  1000/1000\u001b[39m\r\n",
      "\u001b[34m  loss:   3.303705098576656\u001b[39m\r\n",
      "\u001b[34m  klds:   2.400839615613222\u001b[39m\n"
     ]
    }
   ],
   "source": [
    "sv = GenerativeMIL.Models.SetVAE(3,32,4,[16,8,4,2], [2,4,8,16], 3, 5, Flux.relu);\n",
    "sv_tmp = deepcopy(sv);\n",
    "ps = Flux.params(sv);\n",
    "opt = ADAM(lt=1e-3)\n",
    "losses = []\n",
    "iters = 1000\n",
    "sizes = []\n",
    "progress = Progress(iters)\n",
    "beta = 0.01f0\n",
    "for (i, batch) in enumerate(dataloader)\n",
    "    x, x_mask = transform_batch1(batch,true)#GenerativeMIL.Models.transform_batch(batch)\n",
    "    #x = Flux.sigmoid.(x)\n",
    "    push!(sizes, size(x,2))\n",
    "    #println(x|>size, x_mask|>size)\n",
    "    loss, back = Flux.pullback(ps) do \n",
    "        loss_f(sv, x, x_mask, beta) \n",
    "    end;\n",
    "    grad = back((1f0,0f0,0f0));\n",
    "    Flux.Optimise.update!(opt, ps, grad);\n",
    "    #@info \"loss = $(loss)\"\n",
    "    push!(losses, loss)\n",
    "    next!(progress; showvalues=[(:iters, \"$(i)/$(iters)\"),(:loss, loss[1]),(:klds, loss[2])])\n",
    "    if i == 10000\n",
    "        beta = 0.01f0\n",
    "    elseif i ==iters\n",
    "        break\n",
    "    end\n",
    "end"
   ]
  },
  {
   "cell_type": "code",
   "execution_count": 44,
   "id": "37aa4a28",
   "metadata": {},
   "outputs": [
    {
     "name": "stdout",
     "output_type": "stream",
     "text": [
      "0.0|0.0|0.0"
     ]
    }
   ],
   "source": [
    "print(Flux.mean(Flux.params(sv_tmp.encoder).==Flux.params(sv.encoder)), \"|\")\n",
    "print(Flux.mean(Flux.params(sv_tmp.decoder).==Flux.params(sv.decoder)), \"|\")\n",
    "print(Flux.mean(Flux.params(sv_tmp.prior).==Flux.params(sv.prior)))"
   ]
  },
  {
   "cell_type": "code",
   "execution_count": 45,
   "id": "dfb66f5f",
   "metadata": {},
   "outputs": [
    {
     "name": "stdout",
     "output_type": "stream",
     "text": [
      "0|0|0"
     ]
    }
   ],
   "source": [
    "print(Flux.sum(Flux.params(sv_tmp.encoder).==Flux.params(sv.encoder)), \"|\")\n",
    "print(Flux.sum(Flux.params(sv_tmp.decoder).==Flux.params(sv.decoder)), \"|\")\n",
    "print(Flux.sum(Flux.params(sv_tmp.prior).==Flux.params(sv.prior)))"
   ]
  },
  {
   "cell_type": "code",
   "execution_count": null,
   "id": "593f46d4",
   "metadata": {},
   "outputs": [],
   "source": []
  },
  {
   "cell_type": "code",
   "execution_count": 46,
   "id": "115fdb92",
   "metadata": {},
   "outputs": [
    {
     "data": {
      "image/png": "[encoded data removed]",
      "text/plain": [
       "Figure(PyObject <Figure size 640x480 with 1 Axes>)"
      ]
     },
     "metadata": {},
     "output_type": "display_data"
    },
    {
     "data": {
      "text/plain": [
       "1-element Vector{PyCall.PyObject}:\n",
       " PyObject <matplotlib.lines.Line2D object at 0x0000000002450B20>"
      ]
     },
     "execution_count": 46,
     "metadata": {},
     "output_type": "execute_result"
    }
   ],
   "source": [
    "plot(map(x->x[1], losses))#plot(losses)"
   ]
  },
  {
   "cell_type": "code",
   "execution_count": 47,
   "id": "69fa132e",
   "metadata": {},
   "outputs": [
    {
     "data": {
      "image/png": "[encoded data removed]",
      "text/plain": [
       "Figure(PyObject <Figure size 640x480 with 1 Axes>)"
      ]
     },
     "metadata": {},
     "output_type": "display_data"
    }
   ],
   "source": [
    "hist(sizes);"
   ]
  },
  {
   "cell_type": "code",
   "execution_count": 48,
   "id": "4612b90a",
   "metadata": {},
   "outputs": [
    {
     "data": {
      "image/png": "[encoded data removed]",
      "text/plain": [
       "Figure(PyObject <Figure size 640x480 with 1 Axes>)"
      ]
     },
     "metadata": {},
     "output_type": "display_data"
    },
    {
     "data": {
      "text/plain": [
       "1-element Vector{PyCall.PyObject}:\n",
       " PyObject <matplotlib.lines.Line2D object at 0x0000000002667970>"
      ]
     },
     "execution_count": 48,
     "metadata": {},
     "output_type": "execute_result"
    }
   ],
   "source": [
    "plot(map(x->x[2], losses))"
   ]
  },
  {
   "cell_type": "code",
   "execution_count": 56,
   "id": "ef1b7330",
   "metadata": {},
   "outputs": [
    {
     "data": {
      "image/png": "[encoded data removed]",
      "text/plain": [
       "Figure(PyObject <Figure size 640x480 with 1 Axes>)"
      ]
     },
     "metadata": {},
     "output_type": "display_data"
    },
    {
     "data": {
      "text/plain": [
       "1-element Vector{PyCall.PyObject}:\n",
       " PyObject <matplotlib.lines.Line2D object at 0x00000000B735ABE0>"
      ]
     },
     "execution_count": 56,
     "metadata": {},
     "output_type": "execute_result"
    }
   ],
   "source": [
    "plot(map(x->x[1] - beta * x[2], losses))"
   ]
  },
  {
   "cell_type": "code",
   "execution_count": 57,
   "id": "d77c4ce4",
   "metadata": {},
   "outputs": [
    {
     "data": {
      "image/png": "[encoded data removed]",
      "text/plain": [
       "Figure(PyObject <Figure size 640x480 with 1 Axes>)"
      ]
     },
     "metadata": {},
     "output_type": "display_data"
    },
    {
     "data": {
      "text/plain": [
       "1-element Vector{PyCall.PyObject}:\n",
       " PyObject <matplotlib.lines.Line2D object at 0x00000000B73BBA00>"
      ]
     },
     "execution_count": 57,
     "metadata": {},
     "output_type": "execute_result"
    }
   ],
   "source": [
    "plot(map(x->x[3], losses))#plot(losses)"
   ]
  },
  {
   "cell_type": "code",
   "execution_count": 14,
   "id": "ed2a5a86",
   "metadata": {},
   "outputs": [
    {
     "ename": "LoadError",
     "evalue": "UndefVarError: dafasfasfasf not defined",
     "output_type": "error",
     "traceback": [
      "UndefVarError: dafasfasfasf not defined",
      "",
      "Stacktrace:",
      " [1] top-level scope",
      "   @ :0",
      " [2] eval",
      "   @ .\\boot.jl:373 [inlined]",
      " [3] include_string(mapexpr::typeof(REPL.softscope), mod::Module, code::String, filename::String)",
      "   @ Base .\\loading.jl:1196"
     ]
    }
   ],
   "source": [
    "dafasfasfasf"
   ]
  },
  {
   "cell_type": "code",
   "execution_count": 6,
   "id": "35a53cd6",
   "metadata": {},
   "outputs": [],
   "source": [
    "xx = 0\n",
    "xx_mask = 0\n",
    "for test in dataloader\n",
    "    \n",
    "    #println(typeof.(transform_batch1(test, true)))\n",
    "    xx, xx_mask = transform_batch1(test, true)\n",
    "    #xx = Flux.sigmoid.(xx\n",
    "    break\n",
    "end"
   ]
  },
  {
   "cell_type": "code",
   "execution_count": 99,
   "id": "43752783",
   "metadata": {},
   "outputs": [
    {
     "data": {
      "text/plain": [
       "forw (generic function with 2 methods)"
      ]
     },
     "execution_count": 99,
     "metadata": {},
     "output_type": "execute_result"
    }
   ],
   "source": [
    "function forw(m::GenerativeMIL.Models.SetVAE, x::AbstractArray{<:Real}, x_mask::AbstractArray{Bool}, β::Float32=0.01f0)\n",
    "    #encoder\n",
    "    x1 = m.encoder.expansion(x) .* x_mask\n",
    "    x1, h_enc1 = m.encoder.layers[1](x1, x_mask)\n",
    "    x1, h_enc2 = m.encoder.layers[2](x1, x_mask)\n",
    "    x1, h_enc3 = m.encoder.layers[3](x1, x_mask)\n",
    "    x1, h_enc4 = m.encoder.layers[4](x1, x_mask)\n",
    "    \n",
    "    _, sample_size, bs = size(x_mask)\n",
    "    z = m.prior(sample_size, bs)\n",
    "    #z = randn(Float32, 3,sample_size, bs)\n",
    "    #decoder\n",
    "    klds = 0\n",
    "    x1 = m.decoder.expansion(z) .* x_mask\n",
    "    x1, kld, _,_ = m.decoder.layers[1](x1, h_enc4, x_mask)\n",
    "    klds += kld\n",
    "    x1, kld, _,_ = m.decoder.layers[2](x1, h_enc3, x_mask)\n",
    "    klds += kld\n",
    "    x1, kld, _,_ = m.decoder.layers[3](x1, h_enc2, x_mask)\n",
    "    klds += kld\n",
    "    x1, kld, _,_ = m.decoder.layers[4](x1, h_enc1, x_mask)\n",
    "    klds += kld\n",
    "    x1 = m.decoder.reduction(x1) .* x_mask\n",
    "    return x1, z\n",
    "end"
   ]
  },
  {
   "cell_type": "code",
   "execution_count": 100,
   "id": "9cdf264c",
   "metadata": {},
   "outputs": [],
   "source": [
    "sv = GenerativeMIL.Models.SetVAE(3,64,4,[16,8,4,1], [2,4,8,16], 5, 32, Flux.swish);"
   ]
  },
  {
   "cell_type": "code",
   "execution_count": 101,
   "id": "1381632c",
   "metadata": {},
   "outputs": [],
   "source": [
    "sv.decoder;"
   ]
  },
  {
   "cell_type": "code",
   "execution_count": 102,
   "id": "8c223318",
   "metadata": {},
   "outputs": [
    {
     "name": "stdout",
     "output_type": "stream",
     "text": [
      "size -> (64, 3) | type -> Matrix{Float32} | mean -> -0.011077459 | var -> 0.034415096 | sum -> -2.126872 | not zero elements -> 192) \n"
     ]
    }
   ],
   "source": [
    "sv.decoder.expansion.W |> GenerativeMIL.Models.check"
   ]
  },
  {
   "cell_type": "code",
   "execution_count": 103,
   "id": "16dd240a",
   "metadata": {},
   "outputs": [
    {
     "name": "stdout",
     "output_type": "stream",
     "text": [
      "local function\n"
     ]
    }
   ],
   "source": [
    "y,_ = forw(sv, xx, xx_mask);"
   ]
  },
  {
   "cell_type": "code",
   "execution_count": 104,
   "id": "4a141345",
   "metadata": {},
   "outputs": [
    {
     "data": {
      "image/png": "[encoded data removed]",
      "text/plain": [
       "Figure(PyObject <Figure size 640x480 with 1 Axes>)"
      ]
     },
     "metadata": {},
     "output_type": "display_data"
    },
    {
     "data": {
      "text/plain": [
       "PyObject <matplotlib.collections.PathCollection object at 0x000000000138A070>"
      ]
     },
     "execution_count": 104,
     "metadata": {},
     "output_type": "execute_result"
    }
   ],
   "source": [
    "scatter(xx[1,:,10], xx[2,:,10], s=140 .* xx[3,:,10] .+ 87)"
   ]
  },
  {
   "cell_type": "code",
   "execution_count": 105,
   "id": "a8837480",
   "metadata": {
    "scrolled": false
   },
   "outputs": [
    {
     "data": {
      "image/png": "[encoded data removed]",
      "text/plain": [
       "Figure(PyObject <Figure size 640x480 with 1 Axes>)"
      ]
     },
     "metadata": {},
     "output_type": "display_data"
    },
    {
     "data": {
      "text/plain": [
       "PyObject <matplotlib.collections.PathCollection object at 0x00000000013EACD0>"
      ]
     },
     "execution_count": 105,
     "metadata": {},
     "output_type": "execute_result"
    }
   ],
   "source": [
    "scatter(y[1,:,1], y[2,:,1])#, s=147 .*y[3,:,10] .+ 87)"
   ]
  },
  {
   "cell_type": "code",
   "execution_count": null,
   "id": "b4241fb4",
   "metadata": {},
   "outputs": [],
   "source": []
  },
  {
   "cell_type": "code",
   "execution_count": 113,
   "id": "31e85f1a",
   "metadata": {},
   "outputs": [
    {
     "data": {
      "text/plain": [
       "5-element Vector{Float32}:\n",
       " 0.58957666\n",
       " 0.16963077\n",
       " 0.4072845\n",
       " 0.795733\n",
       " 0.55859035"
      ]
     },
     "execution_count": 113,
     "metadata": {},
     "output_type": "execute_result"
    }
   ],
   "source": [
    "mod_prior.α"
   ]
  },
  {
   "cell_type": "code",
   "execution_count": 109,
   "id": "e0accaab",
   "metadata": {},
   "outputs": [
    {
     "data": {
      "text/plain": [
       "3×5×1 Array{Float32, 3}:\n",
       "[:, :, 1] =\n",
       "  7.10654  -1.13689  -4.50142    -2.3946    0.00204993\n",
       "  5.65151   3.63746   0.0625007  -7.53207  -1.20442\n",
       " -5.72014   3.07019   6.02951    -2.3408    4.98249"
      ]
     },
     "execution_count": 109,
     "metadata": {},
     "output_type": "execute_result"
    }
   ],
   "source": [
    "mod_prior = sv.prior;\n",
    "mod_prior.μ .*=3"
   ]
  },
  {
   "cell_type": "code",
   "execution_count": 121,
   "id": "bc59a38f",
   "metadata": {},
   "outputs": [
    {
     "data": {
      "text/plain": [
       "gumbel_softmax (generic function with 1 method)"
      ]
     },
     "execution_count": 121,
     "metadata": {},
     "output_type": "execute_result"
    }
   ],
   "source": [
    "using Random\n",
    "using Zygote\n",
    "function gumbel_softmax(logits::AbstractArray{T}; τ::T=1f0, hard::Bool=false, eps::Float32=1.0f-10) where T <: Real\n",
    "    # logits ∈ R^{n_classes} ~ (n_classes, bs) \n",
    "    # τ ... non-negative scalar temeperature (default=1.0) https://arxiv.org/pdf/1611.01144.pdf\n",
    "    # gumbel_samples = -log.(-log.(rand(Float32, size(logits)) + 1e-10) + 1e-10) # alternative version\n",
    "    #.+ rand(Gumbel(Float32(0), Float32(1)), size(logits))\n",
    "    gumbel_samples = -log.(-log.(Random.rand!(logits) .+ eps) .+ eps)\n",
    "    y = logits .+ gumbel_samples\n",
    "    y = Flux.softmax(y./τ)\n",
    "\n",
    "    if !hard\n",
    "        return y\n",
    "    else\n",
    "        y_hard = nothing\n",
    "        Zygote.ignore() do\n",
    "            # we don't want for this block of code computing gradients\n",
    "            shape = size(y)\n",
    "            y_hard = zeros(T, shape)\n",
    "            _, ind = findmax(y, dims=1)\n",
    "            y_hard[ind] .= 1\n",
    "            y_hard = y_hard .- y\n",
    "        end\n",
    "        #print(y_hard)\n",
    "        # now we bypass gradients from y_hard to y\n",
    "        y = y_hard .+ y \n",
    "        return y\n",
    "    end\n",
    "end"
   ]
  },
  {
   "cell_type": "code",
   "execution_count": 136,
   "id": "ed1e6013",
   "metadata": {},
   "outputs": [
    {
     "name": "stdout",
     "output_type": "stream",
     "text": [
      "Float32[0.0, 0.0, 1.0, 0.0, 0.0]\n",
      "size -> (1, 300, 5, 32) | type -> Array{Float32, 4} | mean -> 0.2 | var -> 0.16000333 | sum -> 9600.0 | not zero elements -> 9600) \n",
      "size -> (3, 1, 5, 1) | type -> Array{Float32, 4} | mean -> 0.38079324 | var -> 20.555727 | sum -> 5.711899 | not zero elements -> 15) \n",
      "size -> (3, 300, 32) | type -> Array{Float32, 3} | mean -> 0.5301942 | var -> 18.593428 | sum -> 15269.594 | not zero elements -> 28800) \n",
      "local function\n",
      "size -> (3, 300, 32) | type -> Array{Float32, 3} | mean -> 0.52010524 | var -> 20.2295 | sum -> 14979.031 | not zero elements -> 28800) \n"
     ]
    },
    {
     "data": {
      "image/png": "[encoded data removed]",
      "text/plain": [
       "Figure(PyObject <Figure size 640x480 with 1 Axes>)"
      ]
     },
     "metadata": {},
     "output_type": "display_data"
    },
    {
     "data": {
      "text/plain": [
       "PyObject <matplotlib.collections.PathCollection object at 0x000000000237ACA0>"
      ]
     },
     "execution_count": 136,
     "metadata": {},
     "output_type": "execute_result"
    }
   ],
   "source": [
    "function (MoG::GenerativeMIL.Models.MixtureOfGaussians)(sample_size::Union{Int, Array{Int, 1}}, batch_size)\n",
    "    # TODO for array instead of int .. maybe not needed\n",
    "    # sample_size = ...\n",
    "    αₒₕ = gumbel_softmax(MoG.α, hard=true)\n",
    "    println(αₒₕ)\n",
    "    αₒₕ = reshape(αₒₕ, (1, 1, MoG.K, 1))\n",
    "    αₒₕ = repeat(αₒₕ, 1, sample_size, 1, 1) # (K) -> (1, 1, K, 1) -> (1, ss, K, 1),\n",
    "    #cat([reshape(αₒₕ, (1, 1, MoG.K, 1)) for i=1:sample_size]..., dims=2)\n",
    "    αₒₕ = repeat(αₒₕ, 1, 1, 1, batch_size)  # (1, ss, K, 1) -> (1, ss, K, bs)\n",
    "    # cat([αₒₕ for i =1:batch_size]..., dims=4)\n",
    "    αₒₕ|>GenerativeMIL.Models.check\n",
    "    μ = reshape(MoG.μ, (MoG.Ds, 1, MoG.K, 1)) # (Ds, K, 1) -> (Ds, 1, K, 1) \n",
    "    Σ = reshape(MoG.Σ, (MoG.Ds, 1, MoG.K, 1)) # (Ds, K, 1) -> (Ds, 1, K, 1) \n",
    "    μ|>GenerativeMIL.Models.check\n",
    "    # (1, ss, K, bs) * (Ds, 1, K, 1) -> (Ds, ss, K, bs) -> (Ds, ss, 1, bs) -> (Ds, ss, bs)\n",
    "    #μ = Flux.sum( μ .* αₒₕ  , dims=3)[:,:,1,:] \n",
    "    #Σ = Flux.sum( Σ .* αₒₕ  , dims=3)[:,:,1,:] \n",
    "    μ = reshape(Flux.sum( μ .* αₒₕ  , dims=3), (:,sample_size, batch_size))\n",
    "    Σ = reshape(Flux.sum( Σ .* αₒₕ  , dims=3), (:,sample_size, batch_size))\n",
    "    μ|>GenerativeMIL.Models.check\n",
    "    # samples from N(0,1) -> (Ds, ss, bs)\n",
    "    ϵ = randn(Float32, MoG.Ds, sample_size, batch_size)\n",
    "    z = μ + Flux.softplus.(Σ) .* ϵ #.* randn(Float32) # (Ds, ss, bs) + (Ds, ss, bs) * (Ds, ss, bs) -> (Ds, ss, bs)\n",
    "    println(\"local function\")\n",
    "    return z\n",
    "end\n",
    "zz = mod_prior(300, 32)\n",
    "zz|> GenerativeMIL.Models.check\n",
    "scatter(zz[1,:,1], zz[2,:,1])#, s=147 .*y[3,:,10] .+ 87)"
   ]
  },
  {
   "cell_type": "code",
   "execution_count": 124,
   "id": "f1b48010",
   "metadata": {},
   "outputs": [
    {
     "data": {
      "text/plain": [
       "1-element Vector{Float64}:\n",
       " 0.3328614280068346"
      ]
     },
     "execution_count": 124,
     "metadata": {},
     "output_type": "execute_result"
    }
   ],
   "source": [
    "ones(3,2,4) .* randn() |> unique"
   ]
  },
  {
   "cell_type": "code",
   "execution_count": 98,
   "id": "872b8715",
   "metadata": {},
   "outputs": [
    {
     "data": {
      "text/plain": [
       "3×2×4 Array{Float64, 3}:\n",
       "[:, :, 1] =\n",
       " -0.129992  -0.129992\n",
       " -0.129992  -0.129992\n",
       " -0.129992  -0.129992\n",
       "\n",
       "[:, :, 2] =\n",
       " -0.129992  -0.129992\n",
       " -0.129992  -0.129992\n",
       " -0.129992  -0.129992\n",
       "\n",
       "[:, :, 3] =\n",
       " -0.129992  -0.129992\n",
       " -0.129992  -0.129992\n",
       " -0.129992  -0.129992\n",
       "\n",
       "[:, :, 4] =\n",
       " -0.129992  -0.129992\n",
       " -0.129992  -0.129992\n",
       " -0.129992  -0.129992"
      ]
     },
     "execution_count": 98,
     "metadata": {},
     "output_type": "execute_result"
    }
   ],
   "source": [
    "ones(3,2,4) .* randn()"
   ]
  },
  {
   "cell_type": "code",
   "execution_count": 25,
   "id": "eedc5559",
   "metadata": {},
   "outputs": [
    {
     "name": "stdout",
     "output_type": "stream",
     "text": [
      "size -> (64, 231, 32) | type -> Array{Float32, 3} | var -> 0.99978584 | mean -> 0.003369786 | sum -> 1594.2053 | not zero elements -> 294528) \n"
     ]
    }
   ],
   "source": [
    "y|>check"
   ]
  },
  {
   "cell_type": "code",
   "execution_count": 64,
   "id": "fbba5bce",
   "metadata": {},
   "outputs": [
    {
     "data": {
      "text/plain": [
       "0.0077997334f0"
      ]
     },
     "execution_count": 64,
     "metadata": {},
     "output_type": "execute_result"
    }
   ],
   "source": [
    "Flux.var(y[1,:,10])"
   ]
  },
  {
   "cell_type": "code",
   "execution_count": 123,
   "id": "10958dff",
   "metadata": {},
   "outputs": [
    {
     "name": "stdout",
     "output_type": "stream",
     "text": [
      "size -> (234,) | type -> Vector{Float32} | mean -> 0.44466263 | sum -> 104.051056 | not zero elements -> 168) \n"
     ]
    }
   ],
   "source": [
    "y[1,:,30] |> GenerativeMIL.Models.check"
   ]
  },
  {
   "cell_type": "code",
   "execution_count": 19,
   "id": "278d3950",
   "metadata": {},
   "outputs": [],
   "source": [
    "#y[:,:,end]"
   ]
  },
  {
   "cell_type": "code",
   "execution_count": 20,
   "id": "8bcd3ff4",
   "metadata": {},
   "outputs": [
    {
     "data": {
      "text/plain": [
       "200-element Vector{Any}:\n",
       " 4.9109138616633174\n",
       " 3.2231548254766906\n",
       " 1.5511453734192742\n",
       " 1.376289877252941\n",
       " 1.5160141422933915\n",
       " 1.3249798332140157\n",
       " 1.1204528914874787\n",
       " 1.1780680757885462\n",
       " 0.9800440250442674\n",
       " 0.7402565359794262\n",
       " 1.0840892548637346\n",
       " 0.8100583980445959\n",
       " 0.7466132603850199\n",
       " ⋮\n",
       " 0.5107088557775473\n",
       " 0.4827751492086853\n",
       " 0.44803662019413815\n",
       " 0.4465033793746775\n",
       " 0.5041566591931825\n",
       " 0.6160068135008958\n",
       " 0.49828455121592563\n",
       " 0.491665753943473\n",
       " 0.4906397582968852\n",
       " 0.5248843718569464\n",
       " 0.5801990929663784\n",
       " 0.45816561409466555"
      ]
     },
     "execution_count": 20,
     "metadata": {},
     "output_type": "execute_result"
    }
   ],
   "source": [
    "losses"
   ]
  },
  {
   "cell_type": "code",
   "execution_count": 21,
   "id": "40c5589e",
   "metadata": {},
   "outputs": [
    {
     "data": {
      "text/plain": [
       "Dict{Symbol, Vector{Any}} with 1 entry:\n",
       "  :data => [4.91091, 3.22315, 1.55115, 1.37629, 1.51601, 1.32498, 1.12045, 1.17…"
      ]
     },
     "execution_count": 21,
     "metadata": {},
     "output_type": "execute_result"
    }
   ],
   "source": [
    "using DelimitedFiles\n",
    "outdata = Dict(:data => losses)\n",
    "#save(\"losses1.bson\", outdata)"
   ]
  },
  {
   "cell_type": "code",
   "execution_count": 25,
   "id": "18224716",
   "metadata": {},
   "outputs": [
    {
     "name": "stdout",
     "output_type": "stream",
     "text": [
      "Bool[0, 0, 0, 0, 0, 0, 0, 0, 0, 0, 0, 0, 0, 0, 0, 0, 0, 0, 0, 0, 0, 0, 0, 0, 0, 0, 0, 0, 0, 0, 0, 0, 0, 0, 0, 0, 0, 0, 0, 0, 0, 0, 0, 0, 0, 0, 0, 0, 0, 0, 0, 0, 0, 0, 0, 0, 0, 0, 0, 0, 0, 0, 0, 0, 0, 0, 0, 0, 0, 0, 0, 0, 0, 0, 0, 0, 0, 0, 0, 0, 0, 1, 1, 0, 0, 0, 0, 0, 0, 0]"
     ]
    }
   ],
   "source": [
    "print(Flux.params(sv_tmp.encoder).==Flux.params(sv.encoder))\n"
   ]
  },
  {
   "cell_type": "code",
   "execution_count": 28,
   "id": "8f4ebb71",
   "metadata": {},
   "outputs": [
    {
     "name": "stdout",
     "output_type": "stream",
     "text": [
      "[(64, 64), (64, 64)]"
     ]
    }
   ],
   "source": [
    "print(Flux.params(sv.encoder)[Flux.params(sv_tmp.encoder).==Flux.params(sv.encoder)] .|> size)"
   ]
  },
  {
   "cell_type": "code",
   "execution_count": 29,
   "id": "a6b1328a",
   "metadata": {},
   "outputs": [
    {
     "data": {
      "text/plain": [
       "2-element Vector{Any}:\n",
       " Float32[-0.1035946 -0.055361886 … 0.20891346 -0.21407235; 0.2083059 0.12511599 … -0.06408487 -0.2001316; … ; 0.18608487 0.08807347 … 0.15463728 -0.16088907; -0.11046067 0.15218392 … 0.20965809 -0.02174056]\n",
       " Float32[0.19898191 -0.04247078 … 0.0035432924 -0.071521774; 0.1756928 0.108293 … 0.023105705 -0.19747646; … ; 0.19096962 0.1671403 … 0.07329582 0.07689403; 0.16038328 0.11917222 … -0.137432 0.20649318]"
      ]
     },
     "execution_count": 29,
     "metadata": {},
     "output_type": "execute_result"
    }
   ],
   "source": [
    "unchanged_params = deepcopy(Flux.params(sv.encoder)[Flux.params(sv_tmp.encoder).==Flux.params(sv.encoder)])"
   ]
  },
  {
   "cell_type": "code",
   "execution_count": 41,
   "id": "e5a35e92",
   "metadata": {},
   "outputs": [
    {
     "data": {
      "text/plain": [
       "true"
      ]
     },
     "execution_count": 41,
     "metadata": {},
     "output_type": "execute_result"
    }
   ],
   "source": [
    "sv.encoder.layers[end].MAB1.Multihead.WQ.W == unchanged_params[1]"
   ]
  },
  {
   "cell_type": "code",
   "execution_count": 42,
   "id": "4195e522",
   "metadata": {},
   "outputs": [
    {
     "data": {
      "text/plain": [
       "true"
      ]
     },
     "execution_count": 42,
     "metadata": {},
     "output_type": "execute_result"
    }
   ],
   "source": [
    "sv.encoder.layers[end].MAB1.Multihead.WK.W == unchanged_params[2]"
   ]
  },
  {
   "cell_type": "code",
   "execution_count": 45,
   "id": "a8f30e90",
   "metadata": {},
   "outputs": [
    {
     "data": {
      "text/plain": [
       "2.2548338f-5"
      ]
     },
     "execution_count": 45,
     "metadata": {},
     "output_type": "execute_result"
    }
   ],
   "source": [
    "Flux.mse(sv.encoder.layers[end].I,sv_tmp.encoder.layers[end].I ) "
   ]
  },
  {
   "cell_type": "code",
   "execution_count": 26,
   "id": "7f9a08c4",
   "metadata": {
    "scrolled": false
   },
   "outputs": [
    {
     "data": {
      "text/plain": [
       "GenerativeMIL.Models.HierarchicalDecoder(Dense(3, 64), Any[InducedSetAttentionBlock( - MAB1 = MultiheadAttentionBlock(\n",
       "\t - Mulithead = MultiheadAttention(\n",
       "\t - heads = 4 \n",
       "\t - WQ = Dense(64, 64; bias=false) \n",
       "\t - WK = Dense(64, 64; bias=false)\n",
       "\t - WV = Dense(64, 64; bias=false) \n",
       "\t - WO = Dense(64, 64; bias=false) \n",
       "\t - attention = slot_attention \n",
       "\t )  \n",
       "\t - FF = Chain(Dense(64, 64, relu), Dense(64, 64)) \n",
       "\t - LN1 = LayerNorm((64, 1)) \n",
       "\t - LN2 = LayerNorm((64, 1)) \n",
       " ) \n",
       " - MAB2 = MultiheadAttentionBlock(\n",
       "\t - Mulithead = MultiheadAttention(\n",
       "\t - heads = 4 \n",
       "\t - WQ = Dense(64, 64; bias=false) \n",
       "\t - WK = Dense(64, 64; bias=false)\n",
       "\t - WV = Dense(64, 64; bias=false) \n",
       "\t - WO = Dense(64, 64; bias=false) \n",
       "\t - attention = slot_attention \n",
       "\t )  \n",
       "\t - FF = Chain(Dense(64, 64, relu), Dense(64, 64)) \n",
       "\t - LN1 = LayerNorm((64, 1)) \n",
       "\t - LN2 = LayerNorm((64, 1)) \n",
       " )  - VB = VariationalBottleneck(\n",
       "\t - prior = Chain(Dense(64, 32, relu), Dense(32, 32, relu), Dense(32, 32, relu), Dense(32, 32, relu), GenerativeMIL.Models.SplitLayer(Dense(32, 16), Dense(32, 16, softplus))) \n",
       "\t - posterior = Chain(Dense(64, 32, relu), Dense(32, 32, relu), Dense(32, 32, relu), Dense(32, 32, relu), GenerativeMIL.Models.SplitLayer(Dense(32, 16), Dense(32, 16, softplus)))\n",
       "\t - decoder = Chain(Dense(16, 32, relu), Dense(32, 32, relu), Dense(32, 32, relu), Dense(32, 32, relu), Dense(32, 64)) \n",
       " )  \n",
       " - I = (64, 1) - Matrix{Float32} \n",
       " ) , InducedSetAttentionBlock( - MAB1 = MultiheadAttentionBlock(\n",
       "\t - Mulithead = MultiheadAttention(\n",
       "\t - heads = 4 \n",
       "\t - WQ = Dense(64, 64; bias=false) \n",
       "\t - WK = Dense(64, 64; bias=false)\n",
       "\t - WV = Dense(64, 64; bias=false) \n",
       "\t - WO = Dense(64, 64; bias=false) \n",
       "\t - attention = slot_attention \n",
       "\t )  \n",
       "\t - FF = Chain(Dense(64, 64, relu), Dense(64, 64)) \n",
       "\t - LN1 = LayerNorm((64, 1)) \n",
       "\t - LN2 = LayerNorm((64, 1)) \n",
       " ) \n",
       " - MAB2 = MultiheadAttentionBlock(\n",
       "\t - Mulithead = MultiheadAttention(\n",
       "\t - heads = 4 \n",
       "\t - WQ = Dense(64, 64; bias=false) \n",
       "\t - WK = Dense(64, 64; bias=false)\n",
       "\t - WV = Dense(64, 64; bias=false) \n",
       "\t - WO = Dense(64, 64; bias=false) \n",
       "\t - attention = slot_attention \n",
       "\t )  \n",
       "\t - FF = Chain(Dense(64, 64, relu), Dense(64, 64)) \n",
       "\t - LN1 = LayerNorm((64, 1)) \n",
       "\t - LN2 = LayerNorm((64, 1)) \n",
       " )  - VB = VariationalBottleneck(\n",
       "\t - prior = Chain(Dense(64, 32, relu), Dense(32, 32, relu), Dense(32, 32, relu), Dense(32, 32, relu), GenerativeMIL.Models.SplitLayer(Dense(32, 8), Dense(32, 8, softplus))) \n",
       "\t - posterior = Chain(Dense(64, 32, relu), Dense(32, 32, relu), Dense(32, 32, relu), Dense(32, 32, relu), GenerativeMIL.Models.SplitLayer(Dense(32, 8), Dense(32, 8, softplus)))\n",
       "\t - decoder = Chain(Dense(8, 32, relu), Dense(32, 32, relu), Dense(32, 32, relu), Dense(32, 32, relu), Dense(32, 64)) \n",
       " )  \n",
       " - I = (64, 4) - Matrix{Float32} \n",
       " ) , InducedSetAttentionBlock( - MAB1 = MultiheadAttentionBlock(\n",
       "\t - Mulithead = MultiheadAttention(\n",
       "\t - heads = 4 \n",
       "\t - WQ = Dense(64, 64; bias=false) \n",
       "\t - WK = Dense(64, 64; bias=false)\n",
       "\t - WV = Dense(64, 64; bias=false) \n",
       "\t - WO = Dense(64, 64; bias=false) \n",
       "\t - attention = slot_attention \n",
       "\t )  \n",
       "\t - FF = Chain(Dense(64, 64, relu), Dense(64, 64)) \n",
       "\t - LN1 = LayerNorm((64, 1)) \n",
       "\t - LN2 = LayerNorm((64, 1)) \n",
       " ) \n",
       " - MAB2 = MultiheadAttentionBlock(\n",
       "\t - Mulithead = MultiheadAttention(\n",
       "\t - heads = 4 \n",
       "\t - WQ = Dense(64, 64; bias=false) \n",
       "\t - WK = Dense(64, 64; bias=false)\n",
       "\t - WV = Dense(64, 64; bias=false) \n",
       "\t - WO = Dense(64, 64; bias=false) \n",
       "\t - attention = slot_attention \n",
       "\t )  \n",
       "\t - FF = Chain(Dense(64, 64, relu), Dense(64, 64)) \n",
       "\t - LN1 = LayerNorm((64, 1)) \n",
       "\t - LN2 = LayerNorm((64, 1)) \n",
       " )  - VB = VariationalBottleneck(\n",
       "\t - prior = Chain(Dense(64, 32, relu), Dense(32, 32, relu), Dense(32, 32, relu), Dense(32, 32, relu), GenerativeMIL.Models.SplitLayer(Dense(32, 4), Dense(32, 4, softplus))) \n",
       "\t - posterior = Chain(Dense(64, 32, relu), Dense(32, 32, relu), Dense(32, 32, relu), Dense(32, 32, relu), GenerativeMIL.Models.SplitLayer(Dense(32, 4), Dense(32, 4, softplus)))\n",
       "\t - decoder = Chain(Dense(4, 32, relu), Dense(32, 32, relu), Dense(32, 32, relu), Dense(32, 32, relu), Dense(32, 64)) \n",
       " )  \n",
       " - I = (64, 8) - Matrix{Float32} \n",
       " ) , InducedSetAttentionBlock( - MAB1 = MultiheadAttentionBlock(\n",
       "\t - Mulithead = MultiheadAttention(\n",
       "\t - heads = 4 \n",
       "\t - WQ = Dense(64, 64; bias=false) \n",
       "\t - WK = Dense(64, 64; bias=false)\n",
       "\t - WV = Dense(64, 64; bias=false) \n",
       "\t - WO = Dense(64, 64; bias=false) \n",
       "\t - attention = slot_attention \n",
       "\t )  \n",
       "\t - FF = Chain(Dense(64, 64, relu), Dense(64, 64)) \n",
       "\t - LN1 = LayerNorm((64, 1)) \n",
       "\t - LN2 = LayerNorm((64, 1)) \n",
       " ) \n",
       " - MAB2 = MultiheadAttentionBlock(\n",
       "\t - Mulithead = MultiheadAttention(\n",
       "\t - heads = 4 \n",
       "\t - WQ = Dense(64, 64; bias=false) \n",
       "\t - WK = Dense(64, 64; bias=false)\n",
       "\t - WV = Dense(64, 64; bias=false) \n",
       "\t - WO = Dense(64, 64; bias=false) \n",
       "\t - attention = slot_attention \n",
       "\t )  \n",
       "\t - FF = Chain(Dense(64, 64, relu), Dense(64, 64)) \n",
       "\t - LN1 = LayerNorm((64, 1)) \n",
       "\t - LN2 = LayerNorm((64, 1)) \n",
       " )  - VB = VariationalBottleneck(\n",
       "\t - prior = Chain(Dense(64, 32, relu), Dense(32, 32, relu), Dense(32, 32, relu), Dense(32, 32, relu), GenerativeMIL.Models.SplitLayer(Dense(32, 2), Dense(32, 2, softplus))) \n",
       "\t - posterior = Chain(Dense(64, 32, relu), Dense(32, 32, relu), Dense(32, 32, relu), Dense(32, 32, relu), GenerativeMIL.Models.SplitLayer(Dense(32, 2), Dense(32, 2, softplus)))\n",
       "\t - decoder = Chain(Dense(2, 32, relu), Dense(32, 32, relu), Dense(32, 32, relu), Dense(32, 32, relu), Dense(32, 64)) \n",
       " )  \n",
       " - I = (64, 16) - Matrix{Float32} \n",
       " ) ], Dense(64, 3))"
      ]
     },
     "execution_count": 26,
     "metadata": {},
     "output_type": "execute_result"
    }
   ],
   "source": [
    "sv.decoder"
   ]
  },
  {
   "cell_type": "code",
   "execution_count": 51,
   "id": "9603fe16",
   "metadata": {},
   "outputs": [
    {
     "name": "stdout",
     "output_type": "stream",
     "text": [
      "Bool[0, 0, 0, 0, 0, 0, 1, 1, 0, 0, 0, 0, 0, 0, 0, 0, 0, 0, 0, 0, 0, 0, 0, 0, 0, 0, 0, 0, 0, 0, 0, 0, 0, 0, 0, 0, 0, 0, 0, 0, 0, 0, 0, 0, 0, 0, 0, 0, 0, 0, 0, 0, 0, 0, 0, 0, 0, 0, 0, 0, 0, 0, 0, 0, 0, 0, 0, 0, 0, 0, 0, 0, 0, 0, 0, 0, 0, 0, 0, 0, 0, 0, 0, 0, 0, 0, 0, 0, 0, 0, 0, 0, 0, 0, 0, 0, 0, 0, 0, 0, 0, 0, 0, 0, 0, 0, 0, 0, 0, 0, 0, 0, 0, 0, 0, 0, 0, 0, 0, 0, 0, 0, 0, 0, 0, 0, 0, 0, 0, 0, 0, 0, 0, 0, 0, 0, 0, 0, 0, 0, 0, 0, 0, 0, 0, 0, 0, 0, 0, 0, 0, 0, 0, 0, 0, 0, 0, 0, 0, 0, 0, 0, 0, 0, 0, 0, 0, 0, 0, 0, 0, 0, 0, 0, 0, 0, 0, 0, 0, 0, 0, 0, 0, 0, 0, 0, 0, 0, 0, 0, 0, 0]"
     ]
    }
   ],
   "source": [
    "print(Flux.params(sv_tmp.decoder).==Flux.params(sv.decoder))"
   ]
  },
  {
   "cell_type": "code",
   "execution_count": 54,
   "id": "f7b56b2c",
   "metadata": {},
   "outputs": [
    {
     "data": {
      "text/plain": [
       "2-element Vector{Any}:\n",
       " Float32[-0.002783407 -0.12300339 … -0.14789099 0.19804448; -0.060899816 -0.20032728 … -0.009293973 -0.026616735; … ; 0.1651793 -0.07573069 … -0.18813401 0.18882243; -0.14636564 0.010214369 … -0.16233769 -0.09420151]\n",
       " Float32[-0.09238816 0.115560636 … -0.11838379 -0.00854307; 0.008925697 -0.21236357 … 0.033729646 0.013886709; … ; 0.1936226 0.097782746 … 0.15382224 0.051281985; -0.17934793 0.116944626 … 0.21345818 0.0883509]"
      ]
     },
     "execution_count": 54,
     "metadata": {},
     "output_type": "execute_result"
    }
   ],
   "source": [
    "unchanged_params_dec = deepcopy(Flux.params(sv.decoder)[Flux.params(sv_tmp.decoder).==Flux.params(sv.decoder)])"
   ]
  },
  {
   "cell_type": "code",
   "execution_count": 61,
   "id": "50fb144f",
   "metadata": {},
   "outputs": [
    {
     "data": {
      "text/plain": [
       "2-element Vector{Tuple{Int64, Int64}}:\n",
       " (64, 64)\n",
       " (64, 64)"
      ]
     },
     "execution_count": 61,
     "metadata": {},
     "output_type": "execute_result"
    }
   ],
   "source": [
    "unchanged_params_dec.|>size"
   ]
  },
  {
   "cell_type": "code",
   "execution_count": 67,
   "id": "fe80490f",
   "metadata": {},
   "outputs": [
    {
     "data": {
      "text/plain": [
       "true"
      ]
     },
     "execution_count": 67,
     "metadata": {},
     "output_type": "execute_result"
    }
   ],
   "source": [
    "sv.decoder.layers[1].MAB1.Multihead.WQ.W  == unchanged_params_dec[1]"
   ]
  },
  {
   "cell_type": "code",
   "execution_count": 68,
   "id": "6a31b81c",
   "metadata": {},
   "outputs": [
    {
     "data": {
      "text/plain": [
       "true"
      ]
     },
     "execution_count": 68,
     "metadata": {},
     "output_type": "execute_result"
    }
   ],
   "source": [
    "sv.decoder.layers[1].MAB1.Multihead.WK.W  == unchanged_params_dec[2]"
   ]
  },
  {
   "cell_type": "code",
   "execution_count": 71,
   "id": "5843948a",
   "metadata": {},
   "outputs": [
    {
     "data": {
      "text/plain": [
       "false"
      ]
     },
     "execution_count": 71,
     "metadata": {},
     "output_type": "execute_result"
    }
   ],
   "source": [
    "sv.decoder.layers[1].MAB1.Multihead.WV.W  == unchanged_params_dec[1]"
   ]
  },
  {
   "cell_type": "code",
   "execution_count": 72,
   "id": "c167a395",
   "metadata": {},
   "outputs": [
    {
     "name": "stdout",
     "output_type": "stream",
     "text": [
      "search: \u001b[0m\u001b[1ms\u001b[22m\u001b[0m\u001b[1ma\u001b[22m\u001b[0m\u001b[1mv\u001b[22m\u001b[0m\u001b[1me\u001b[22m \u001b[0m\u001b[1ms\u001b[22m\u001b[0m\u001b[1ma\u001b[22m\u001b[0m\u001b[1mv\u001b[22m\u001b[0m\u001b[1me\u001b[22mfig \u001b[0m\u001b[1ms\u001b[22m\u001b[0m\u001b[1ma\u001b[22m\u001b[0m\u001b[1mv\u001b[22m\u001b[0m\u001b[1me\u001b[22mname w\u001b[0m\u001b[1ms\u001b[22m\u001b[0m\u001b[1ma\u001b[22m\u001b[0m\u001b[1mv\u001b[22m\u001b[0m\u001b[1me\u001b[22m @\u001b[0m\u001b[1ms\u001b[22m\u001b[0m\u001b[1ma\u001b[22m\u001b[0m\u001b[1mv\u001b[22m\u001b[0m\u001b[1me\u001b[22mname im\u001b[0m\u001b[1ms\u001b[22m\u001b[0m\u001b[1ma\u001b[22m\u001b[0m\u001b[1mv\u001b[22m\u001b[0m\u001b[1me\u001b[22m tmp\u001b[0m\u001b[1ms\u001b[22m\u001b[0m\u001b[1ma\u001b[22m\u001b[0m\u001b[1mv\u001b[22m\u001b[0m\u001b[1me\u001b[22m tag\u001b[0m\u001b[1ms\u001b[22m\u001b[0m\u001b[1ma\u001b[22m\u001b[0m\u001b[1mv\u001b[22m\u001b[0m\u001b[1me\u001b[22m @tag\u001b[0m\u001b[1ms\u001b[22m\u001b[0m\u001b[1ma\u001b[22m\u001b[0m\u001b[1mv\u001b[22m\u001b[0m\u001b[1me\u001b[22m\n",
      "\n"
     ]
    },
    {
     "data": {
      "text/latex": [
       "\\begin{itemize}\n",
       "\\item \\texttt{save(filename, data...)} saves the contents of a formatted file, trying to infer the format from \\texttt{filename}.\n",
       "\n",
       "\n",
       "\\item \\texttt{save(Stream\\{format\"PNG\"\\}(io), data...)} specifies the format directly, and bypasses the format \\href{@ref}{\\texttt{query}}.\n",
       "\n",
       "\n",
       "\\item \\texttt{save(File\\{format\"PNG\"\\}(filename), data...)} specifies the format directly, and bypasses the format \\href{@ref}{\\texttt{query}}.\n",
       "\n",
       "\n",
       "\\item \\texttt{save(f, data...; options...)} passes keyword arguments on to the saver.\n",
       "\n",
       "\\end{itemize}\n"
      ],
      "text/markdown": [
       "  * `save(filename, data...)` saves the contents of a formatted file, trying to infer the format from `filename`.\n",
       "  * `save(Stream{format\"PNG\"}(io), data...)` specifies the format directly, and bypasses the format [`query`](@ref).\n",
       "  * `save(File{format\"PNG\"}(filename), data...)` specifies the format directly, and bypasses the format [`query`](@ref).\n",
       "  * `save(f, data...; options...)` passes keyword arguments on to the saver.\n"
      ],
      "text/plain": [
       "    •  \u001b[36msave(filename, data...)\u001b[39m saves the contents of a formatted file,\n",
       "       trying to infer the format from \u001b[36mfilename\u001b[39m.\n",
       "\n",
       "    •  \u001b[36msave(Stream{format\"PNG\"}(io), data...)\u001b[39m specifies the format\n",
       "       directly, and bypasses the format \u001b[36mquery\u001b[39m.\n",
       "\n",
       "    •  \u001b[36msave(File{format\"PNG\"}(filename), data...)\u001b[39m specifies the format\n",
       "       directly, and bypasses the format \u001b[36mquery\u001b[39m.\n",
       "\n",
       "    •  \u001b[36msave(f, data...; options...)\u001b[39m passes keyword arguments on to the\n",
       "       saver."
      ]
     },
     "execution_count": 72,
     "metadata": {},
     "output_type": "execute_result"
    }
   ],
   "source": [
    "?save"
   ]
  },
  {
   "cell_type": "code",
   "execution_count": null,
   "id": "a83043b6",
   "metadata": {},
   "outputs": [],
   "source": []
  },
  {
   "cell_type": "code",
   "execution_count": null,
   "id": "b29ceaae",
   "metadata": {},
   "outputs": [],
   "source": []
  },
  {
   "cell_type": "code",
   "execution_count": null,
   "id": "92bd9297",
   "metadata": {},
   "outputs": [],
   "source": []
  },
  {
   "cell_type": "code",
   "execution_count": 78,
   "id": "4e130266",
   "metadata": {},
   "outputs": [],
   "source": [
    "using BSON\n",
    "#tagsave(\"model_test_save.BSON\", Dict(:model => sv, :losses => losses), safe=true)"
   ]
  },
  {
   "cell_type": "code",
   "execution_count": 82,
   "id": "d48a7609",
   "metadata": {},
   "outputs": [
    {
     "name": "stderr",
     "output_type": "stream",
     "text": [
      "┌ Warning: The Git repository ('F:\\AI Center\\GenerativeMIL') is dirty! Appending -dirty to the commit ID.\n",
      "└ @ DrWatson C:\\Users\\ghost_000\\.julia\\packages\\DrWatson\\S4dYA\\src\\saving_tools.jl:65\n"
     ]
    },
    {
     "data": {
      "text/plain": [
       "Dict{Symbol, Any} with 3 entries:\n",
       "  :gitcommit => \"896ae877fbc76b75680bafe9d9c37204630cb683-dirty\"\n",
       "  :model     => SetVAE(HierarchicalEncoder(Dense(3, 64), Any[InducedSetAttentio…\n",
       "  :losses    => Any[(2.43073, 129.363), (1.66283, 67.452), (0.896032, 35.4829),…"
      ]
     },
     "execution_count": 82,
     "metadata": {},
     "output_type": "execute_result"
    }
   ],
   "source": [
    "#tagsave(\"model_test_save.bson\", Dict(:model => sv, :losses => losses), safe=true)"
   ]
  },
  {
   "cell_type": "code",
   "execution_count": 81,
   "id": "19498535",
   "metadata": {},
   "outputs": [
    {
     "data": {
      "text/plain": [
       "Dict{Symbol, Any} with 2 entries:\n",
       "  :model  => SetVAE(HierarchicalEncoder(Dense(3, 64), Any[InducedSetAttentionBl…\n",
       "  :losses => Any[(2.43073, 129.363), (1.66283, 67.452), (0.896032, 35.4829), (0…"
      ]
     },
     "execution_count": 81,
     "metadata": {},
     "output_type": "execute_result"
    }
   ],
   "source": [
    "Dict(:model => sv, :losses => losses)"
   ]
  },
  {
   "cell_type": "code",
   "execution_count": 83,
   "id": "864ac3c1",
   "metadata": {},
   "outputs": [
    {
     "data": {
      "text/plain": [
       "Dict{Symbol, Any} with 3 entries:\n",
       "  :gitcommit => \"896ae877fbc76b75680bafe9d9c37204630cb683-dirty\"\n",
       "  :model     => SetVAE(HierarchicalEncoder(Dense(3, 64), Any[InducedSetAttentio…\n",
       "  :losses    => Any[(2.43073, 129.363), (1.66283, 67.452), (0.896032, 35.4829),…"
      ]
     },
     "execution_count": 83,
     "metadata": {},
     "output_type": "execute_result"
    }
   ],
   "source": [
    "#test = load(\"model_test_save.bson\")"
   ]
  },
  {
   "cell_type": "code",
   "execution_count": 25,
   "id": "f593f962",
   "metadata": {},
   "outputs": [
    {
     "name": "stdout",
     "output_type": "stream",
     "text": [
      "finally\n"
     ]
    },
    {
     "ename": "LoadError",
     "evalue": "UndefVarError: var not defined",
     "output_type": "error",
     "traceback": [
      "UndefVarError: var not defined",
      "",
      "Stacktrace:",
      " [1] top-level scope",
      "   @ In[25]:2",
      " [2] eval",
      "   @ .\\boot.jl:373 [inlined]",
      " [3] include_string(mapexpr::typeof(REPL.softscope), mod::Module, code::String, filename::String)",
      "   @ Base .\\loading.jl:1196"
     ]
    }
   ],
   "source": [
    "try\n",
    "    var(x);\n",
    "    print(\"try\")\n",
    "finally\n",
    "    println(\"finally\")\n",
    "end"
   ]
  },
  {
   "cell_type": "code",
   "execution_count": null,
   "id": "045a5a70",
   "metadata": {},
   "outputs": [],
   "source": []
  }
 ],
 "metadata": {
  "@webio": {
   "lastCommId": null,
   "lastKernelId": null
  },
  "kernelspec": {
   "display_name": "Julia 1.7.2",
   "language": "julia",
   "name": "julia-1.7"
  },
  "language_info": {
   "file_extension": ".jl",
   "mimetype": "application/julia",
   "name": "julia",
   "version": "1.7.2"
  }
 },
 "nbformat": 4,
 "nbformat_minor": 5
}
