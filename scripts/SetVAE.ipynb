{
 "cells": [
  {
   "cell_type": "code",
   "execution_count": 1,
   "id": "d0a1a786",
   "metadata": {},
   "outputs": [],
   "source": [
    "using DrWatson\n",
    "using GenerativeMIL\n",
    "using Flux\n",
    "using Flux3D: chamfer_distance\n",
    "using MLDataPattern\n",
    "using ProgressMeter: Progress, next!\n",
    "using PaddedViews\n",
    "using PyPlot"
   ]
  },
  {
   "cell_type": "code",
   "execution_count": 2,
   "id": "6c8fd4cd",
   "metadata": {},
   "outputs": [
    {
     "data": {
      "text/plain": [
       "loss_f (generic function with 2 methods)"
      ]
     },
     "execution_count": 2,
     "metadata": {},
     "output_type": "execute_result"
    }
   ],
   "source": [
    "function loss_f(m::GenerativeMIL.Models.SetVAE, x::AbstractArray{<:Real}, x_mask::AbstractArray{Bool}, β::Float32=0.01f0)\n",
    "    #encoder\n",
    "    x1 = m.encoder.expansion(x) .* x_mask\n",
    "    x1, h_enc1 = m.encoder.layers[1](x1, x_mask)\n",
    "    x1, h_enc2 = m.encoder.layers[2](x1, x_mask)\n",
    "    x1, h_enc3 = m.encoder.layers[3](x1, x_mask)\n",
    "    x1, h_enc4 = m.encoder.layers[4](x1, x_mask)\n",
    "    \n",
    "    #println(\"encoder\", x1)\n",
    "    _, sample_size, bs = size(x_mask)\n",
    "    z = m.prior(sample_size, bs)\n",
    "    #println(\"sampling\", z)\n",
    "    #decoder\n",
    "    klds = 0\n",
    "    x1 = m.decoder.expansion(z) .* x_mask\n",
    "    x1, kld, _,_ = m.decoder.layers[1](x1, h_enc4, x_mask)\n",
    "    klds += kld\n",
    "    x1, kld, _,_ = m.decoder.layers[2](x1, h_enc3, x_mask)\n",
    "    klds += kld\n",
    "    x1, kld, _,_ = m.decoder.layers[3](x1, h_enc2, x_mask)\n",
    "    klds += kld\n",
    "    x1, kld, _,_ = m.decoder.layers[4](x1, h_enc1, x_mask)\n",
    "    klds += kld\n",
    "    x1 = m.decoder.reduction(x1) .* x_mask\n",
    "    #println(\"decoder\", x1)\n",
    "    #loss = ChamferDistanceLoss(x, x1) + β * klds\n",
    "    loss = chamfer_distance(x, x1) + β * klds\n",
    "    return loss, klds\n",
    "end"
   ]
  },
  {
   "cell_type": "code",
   "execution_count": 3,
   "id": "1e50ce63",
   "metadata": {},
   "outputs": [
    {
     "data": {
      "text/plain": [
       "transform_batch1 (generic function with 2 methods)"
      ]
     },
     "execution_count": 3,
     "metadata": {},
     "output_type": "execute_result"
    }
   ],
   "source": [
    "function transform_batch1(x, max=false)\n",
    "    a_mask = [ones(size(a)) for a in x];\n",
    "    if max\n",
    "        max_set = maximum(size.(x))[end];\n",
    "    else\n",
    "        max_set = minimum(size.(x))[end]; #minimum\n",
    "    end\n",
    "    b = map(a->Array(PaddedView(0, a, (3, max_set))), x);\n",
    "    b_mask = map(a->Array(PaddedView(0, a, (3, max_set))), a_mask);\n",
    "    c = cat(b..., dims=3);\n",
    "    c_mask = cat(b_mask..., dims=3) .> 0; # mask as BitArray\n",
    "    c_mask = Array(c_mask[1:1,:,:]);\n",
    "    return c, c_mask\n",
    "end"
   ]
  },
  {
   "cell_type": "code",
   "execution_count": 4,
   "id": "eff054df",
   "metadata": {},
   "outputs": [
    {
     "name": "stderr",
     "output_type": "stream",
     "text": [
      "┌ Info: train standardized μ = [14.010735081757533; 13.027597697882937; 174.257433938215;;], σ = [4.270086778902686; 5.572331140597686; 87.89041202121322;;]\n",
      "└ @ GenerativeMIL.Models F:\\AI Center\\GenerativeMIL\\src\\models\\utils\\dataset.jl:137\n"
     ]
    }
   ],
   "source": [
    "train, test = GenerativeMIL.Models.load_and_standardize_mnist();"
   ]
  },
  {
   "cell_type": "code",
   "execution_count": 5,
   "id": "49aecc7e",
   "metadata": {},
   "outputs": [
    {
     "data": {
      "text/plain": [
       "RandomBatches(::Vector{Any}, 32, ObsDim.Last())\n",
       " Iterator providing Inf batches of size 32"
      ]
     },
     "execution_count": 5,
     "metadata": {},
     "output_type": "execute_result"
    }
   ],
   "source": [
    "dataloader = RandomBatches(train[1], size=32)"
   ]
  },
  {
   "cell_type": "code",
   "execution_count": 6,
   "id": "6425fa55",
   "metadata": {},
   "outputs": [],
   "source": [
    "sv = GenerativeMIL.Models.SetVAE(3,64,4,[16,8,4,1], [2,4,8,16], 3, 32);"
   ]
  },
  {
   "cell_type": "code",
   "execution_count": 7,
   "id": "e2496c25",
   "metadata": {},
   "outputs": [
    {
     "data": {
      "text/plain": [
       "(4,)"
      ]
     },
     "execution_count": 7,
     "metadata": {},
     "output_type": "execute_result"
    }
   ],
   "source": [
    "sv.encoder.layers|>size"
   ]
  },
  {
   "cell_type": "code",
   "execution_count": 8,
   "id": "eb01286c",
   "metadata": {},
   "outputs": [],
   "source": [
    "#loss, back = Flux.pullback(ps) do \n",
    "#    loss_f(sv, x, x_mask, 0f0) \n",
    "#end;"
   ]
  },
  {
   "cell_type": "code",
   "execution_count": 9,
   "id": "5be810b5",
   "metadata": {},
   "outputs": [],
   "source": [
    "#grad = back(1f0);\n",
    "#Flux.Optimise.update!(opt, ps, grad);"
   ]
  },
  {
   "cell_type": "code",
   "execution_count": 10,
   "id": "6e2e3cd2",
   "metadata": {},
   "outputs": [
    {
     "name": "stderr",
     "output_type": "stream",
     "text": [
      "┌ Warning: ProgressMeter by default refresh meters with additional information in IJulia via `IJulia.clear_output`, which clears all outputs in the cell. \n",
      "│  - To prevent this behaviour, do `ProgressMeter.ijulia_behavior(:append)`. \n",
      "│  - To disable this warning message, do `ProgressMeter.ijulia_behavior(:clear)`.\n",
      "└ @ ProgressMeter C:\\Users\\ghost_000\\.julia\\packages\\ProgressMeter\\sN2xr\\src\\ProgressMeter.jl:618\n",
      "\r",
      "\u001b[32mProgress: 100%|█████████████████████████████████████████| Time: 0:09:25\u001b[39m\r\n",
      "\u001b[34m  iters:  1000/1000\u001b[39m\r\n",
      "\u001b[34m  loss:   0.22826367503153933\u001b[39m\r\n",
      "\u001b[34m  klds:   0.24454880878329277\u001b[39m\n"
     ]
    }
   ],
   "source": [
    "sv = GenerativeMIL.Models.SetVAE(3,64,4,[16,8,4,1], [2,4,8,16], 3, 32);\n",
    "sv_tmp = deepcopy(sv);\n",
    "ps = Flux.params(sv);\n",
    "opt = ADAM()\n",
    "losses = []\n",
    "iters = 1000\n",
    "sizes = []\n",
    "progress = Progress(iters)\n",
    "beta = 0.01f0\n",
    "for (i, batch) in enumerate(dataloader)\n",
    "    x, x_mask = transform_batch1(batch,true)#GenerativeMIL.Models.transform_batch(batch)\n",
    "    x = Float32.(x)\n",
    "    push!(sizes, size(x,2))\n",
    "    #println(x|>size, x_mask|>size)\n",
    "    loss, back = Flux.pullback(ps) do \n",
    "        loss_f(sv, x, x_mask, beta) \n",
    "    end;\n",
    "    grad = back((1f0,0f0));\n",
    "    Flux.Optimise.update!(opt, ps, grad);\n",
    "    #@info \"loss = $(loss)\"\n",
    "    push!(losses, loss)\n",
    "    next!(progress; showvalues=[(:iters, \"$(i)/$(iters)\"),(:loss, loss[1]),(:klds, loss[2])])\n",
    "    if i == 10000\n",
    "        beta = 0.01f0\n",
    "    elseif i ==iters\n",
    "        break\n",
    "    end\n",
    "end"
   ]
  },
  {
   "cell_type": "code",
   "execution_count": 11,
   "id": "37aa4a28",
   "metadata": {},
   "outputs": [
    {
     "name": "stdout",
     "output_type": "stream",
     "text": [
      "0.02631578947368421|0.011363636363636364|0.0"
     ]
    }
   ],
   "source": [
    "print(Flux.mean(Flux.params(sv_tmp.encoder).==Flux.params(sv.encoder)), \"|\")\n",
    "print(Flux.mean(Flux.params(sv_tmp.decoder).==Flux.params(sv.decoder)), \"|\")\n",
    "print(Flux.mean(Flux.params(sv_tmp.prior).==Flux.params(sv.prior)))"
   ]
  },
  {
   "cell_type": "code",
   "execution_count": 12,
   "id": "dfb66f5f",
   "metadata": {},
   "outputs": [
    {
     "name": "stdout",
     "output_type": "stream",
     "text": [
      "2|2|0"
     ]
    }
   ],
   "source": [
    "print(Flux.sum(Flux.params(sv_tmp.encoder).==Flux.params(sv.encoder)), \"|\")\n",
    "print(Flux.sum(Flux.params(sv_tmp.decoder).==Flux.params(sv.decoder)), \"|\")\n",
    "print(Flux.sum(Flux.params(sv_tmp.prior).==Flux.params(sv.prior)))"
   ]
  },
  {
   "cell_type": "code",
   "execution_count": null,
   "id": "593f46d4",
   "metadata": {},
   "outputs": [],
   "source": []
  },
  {
   "cell_type": "code",
   "execution_count": 13,
   "id": "115fdb92",
   "metadata": {},
   "outputs": [
    {
     "data": {
      "image/png": "[encoded data removed]",
      "text/plain": [
       "Figure(PyObject <Figure size 640x480 with 1 Axes>)"
      ]
     },
     "metadata": {},
     "output_type": "display_data"
    },
    {
     "data": {
      "text/plain": [
       "1-element Vector{PyCall.PyObject}:\n",
       " PyObject <matplotlib.lines.Line2D object at 0x00000000706BEEE0>"
      ]
     },
     "execution_count": 13,
     "metadata": {},
     "output_type": "execute_result"
    }
   ],
   "source": [
    "plot(map(x->x[1], losses))#plot(losses)"
   ]
  },
  {
   "cell_type": "code",
   "execution_count": 14,
   "id": "69fa132e",
   "metadata": {},
   "outputs": [
    {
     "data": {
      "image/png": "[encoded data removed]",
      "text/plain": [
       "Figure(PyObject <Figure size 640x480 with 1 Axes>)"
      ]
     },
     "metadata": {},
     "output_type": "display_data"
    }
   ],
   "source": [
    "hist(sizes);"
   ]
  },
  {
   "cell_type": "code",
   "execution_count": 15,
   "id": "4612b90a",
   "metadata": {},
   "outputs": [
    {
     "data": {
      "image/png": "[encoded data removed]",
      "text/plain": [
       "Figure(PyObject <Figure size 640x480 with 1 Axes>)"
      ]
     },
     "metadata": {},
     "output_type": "display_data"
    },
    {
     "data": {
      "text/plain": [
       "1-element Vector{PyCall.PyObject}:\n",
       " PyObject <matplotlib.lines.Line2D object at 0x000000007016B8E0>"
      ]
     },
     "execution_count": 15,
     "metadata": {},
     "output_type": "execute_result"
    }
   ],
   "source": [
    "plot(map(x->x[2], losses))"
   ]
  },
  {
   "cell_type": "code",
   "execution_count": 14,
   "id": "ed2a5a86",
   "metadata": {},
   "outputs": [
    {
     "ename": "LoadError",
     "evalue": "UndefVarError: dafasfasfasf not defined",
     "output_type": "error",
     "traceback": [
      "UndefVarError: dafasfasfasf not defined",
      "",
      "Stacktrace:",
      " [1] top-level scope",
      "   @ :0",
      " [2] eval",
      "   @ .\\boot.jl:373 [inlined]",
      " [3] include_string(mapexpr::typeof(REPL.softscope), mod::Module, code::String, filename::String)",
      "   @ Base .\\loading.jl:1196"
     ]
    }
   ],
   "source": [
    "dafasfasfasf"
   ]
  },
  {
   "cell_type": "code",
   "execution_count": 26,
   "id": "35a53cd6",
   "metadata": {},
   "outputs": [],
   "source": [
    "xx = 0\n",
    "xx_mask = 0\n",
    "for test in dataloader\n",
    "    xx, xx_mask = transform_batch1(test, true)\n",
    "    xx = Float32.(xx)\n",
    "    break\n",
    "end"
   ]
  },
  {
   "cell_type": "code",
   "execution_count": 27,
   "id": "43752783",
   "metadata": {},
   "outputs": [
    {
     "data": {
      "text/plain": [
       "forw (generic function with 2 methods)"
      ]
     },
     "execution_count": 27,
     "metadata": {},
     "output_type": "execute_result"
    }
   ],
   "source": [
    "function forw(m::GenerativeMIL.Models.SetVAE, x::AbstractArray{<:Real}, x_mask::AbstractArray{Bool}, β::Float32=0.01f0)\n",
    "    #encoder\n",
    "    x1 = m.encoder.expansion(x) .* x_mask\n",
    "    x1, h_enc1 = m.encoder.layers[1](x1, x_mask)\n",
    "    x1, h_enc2 = m.encoder.layers[2](x1, x_mask)\n",
    "    x1, h_enc3 = m.encoder.layers[3](x1, x_mask)\n",
    "    x1, h_enc4 = m.encoder.layers[4](x1, x_mask)\n",
    "    \n",
    "    _, sample_size, bs = size(x_mask)\n",
    "    z = m.prior(sample_size, bs)\n",
    "    \n",
    "    #decoder\n",
    "    klds = 0\n",
    "    x1 = m.decoder.expansion(z) .* x_mask\n",
    "    x1, kld, _,_ = m.decoder.layers[1](x1, h_enc4, x_mask)\n",
    "    klds += kld\n",
    "    x1, kld, _,_ = m.decoder.layers[2](x1, h_enc3, x_mask)\n",
    "    klds += kld\n",
    "    x1, kld, _,_ = m.decoder.layers[3](x1, h_enc2, x_mask)\n",
    "    klds += kld\n",
    "    x1, kld, _,_ = m.decoder.layers[4](x1, h_enc1, x_mask)\n",
    "    klds += kld\n",
    "    x1 = m.decoder.reduction(x1) .* x_mask\n",
    "    #loss = ChamferDistanceLoss(x, x1) + β * klds\n",
    "    return x1\n",
    "end"
   ]
  },
  {
   "cell_type": "code",
   "execution_count": 48,
   "id": "16dd240a",
   "metadata": {},
   "outputs": [],
   "source": [
    "y = forw(sv, xx, xx_mask);"
   ]
  },
  {
   "cell_type": "code",
   "execution_count": 62,
   "id": "1a9180c1",
   "metadata": {},
   "outputs": [],
   "source": [
    "yy = y[:,:,8];"
   ]
  },
  {
   "cell_type": "code",
   "execution_count": 63,
   "id": "2c0cf4ba",
   "metadata": {},
   "outputs": [
    {
     "data": {
      "text/plain": [
       "(3, 216)"
      ]
     },
     "execution_count": 63,
     "metadata": {},
     "output_type": "execute_result"
    }
   ],
   "source": [
    "yy |> size"
   ]
  },
  {
   "cell_type": "code",
   "execution_count": 74,
   "id": "4a141345",
   "metadata": {},
   "outputs": [
    {
     "data": {
      "image/png": "[encoded data removed]",
      "text/plain": [
       "Figure(PyObject <Figure size 640x480 with 1 Axes>)"
      ]
     },
     "metadata": {},
     "output_type": "display_data"
    },
    {
     "data": {
      "text/plain": [
       "PyObject <matplotlib.collections.PathCollection object at 0x00000000D6406430>"
      ]
     },
     "execution_count": 74,
     "metadata": {},
     "output_type": "execute_result"
    }
   ],
   "source": [
    "scatter(xx[1,:,30], xx[2,:,30])"
   ]
  },
  {
   "cell_type": "code",
   "execution_count": 75,
   "id": "a8837480",
   "metadata": {},
   "outputs": [
    {
     "data": {
      "image/png": "[encoded data removed]",
      "text/plain": [
       "Figure(PyObject <Figure size 640x480 with 1 Axes>)"
      ]
     },
     "metadata": {},
     "output_type": "display_data"
    },
    {
     "data": {
      "text/plain": [
       "PyObject <matplotlib.collections.PathCollection object at 0x00000000D646FCA0>"
      ]
     },
     "execution_count": 75,
     "metadata": {},
     "output_type": "execute_result"
    }
   ],
   "source": [
    "scatter(y[1,:,30], y[2,:,30])"
   ]
  },
  {
   "cell_type": "code",
   "execution_count": 19,
   "id": "278d3950",
   "metadata": {},
   "outputs": [],
   "source": [
    "#y[:,:,end]"
   ]
  },
  {
   "cell_type": "code",
   "execution_count": 20,
   "id": "8bcd3ff4",
   "metadata": {},
   "outputs": [
    {
     "data": {
      "text/plain": [
       "200-element Vector{Any}:\n",
       " 4.9109138616633174\n",
       " 3.2231548254766906\n",
       " 1.5511453734192742\n",
       " 1.376289877252941\n",
       " 1.5160141422933915\n",
       " 1.3249798332140157\n",
       " 1.1204528914874787\n",
       " 1.1780680757885462\n",
       " 0.9800440250442674\n",
       " 0.7402565359794262\n",
       " 1.0840892548637346\n",
       " 0.8100583980445959\n",
       " 0.7466132603850199\n",
       " ⋮\n",
       " 0.5107088557775473\n",
       " 0.4827751492086853\n",
       " 0.44803662019413815\n",
       " 0.4465033793746775\n",
       " 0.5041566591931825\n",
       " 0.6160068135008958\n",
       " 0.49828455121592563\n",
       " 0.491665753943473\n",
       " 0.4906397582968852\n",
       " 0.5248843718569464\n",
       " 0.5801990929663784\n",
       " 0.45816561409466555"
      ]
     },
     "execution_count": 20,
     "metadata": {},
     "output_type": "execute_result"
    }
   ],
   "source": [
    "losses"
   ]
  },
  {
   "cell_type": "code",
   "execution_count": 21,
   "id": "40c5589e",
   "metadata": {},
   "outputs": [
    {
     "data": {
      "text/plain": [
       "Dict{Symbol, Vector{Any}} with 1 entry:\n",
       "  :data => [4.91091, 3.22315, 1.55115, 1.37629, 1.51601, 1.32498, 1.12045, 1.17…"
      ]
     },
     "execution_count": 21,
     "metadata": {},
     "output_type": "execute_result"
    }
   ],
   "source": [
    "using DelimitedFiles\n",
    "outdata = Dict(:data => losses)\n",
    "#save(\"losses1.bson\", outdata)"
   ]
  },
  {
   "cell_type": "code",
   "execution_count": 100,
   "id": "63edfc04",
   "metadata": {},
   "outputs": [
    {
     "data": {
      "text/plain": [
       "4-element Vector{Any}:\n",
       " GenerativeMIL.Models.InducedSetAttentionBlock(MultiheadAttentionBlock( \n",
       " - Mulithead = MultiheadAttention(\n",
       " - heads = 4 \n",
       " - WQ = Dense(64, 64; bias=false) \n",
       " - WK = Dense(64, 64; bias=false)\n",
       " - WV = Dense(64, 64; bias=false) \n",
       " - WO = Dense(64, 64; bias=false) \n",
       " - attention = slot_attention \n",
       " )  \n",
       " - FF = Dense(64, 64) \n",
       " - LN1 = LayerNorm((64, 1)) \n",
       " - LN2 = LayerNorm((64, 1)) \n",
       " ) , MultiheadAttentionBlock( \n",
       " - Mulithead = MultiheadAttention(\n",
       " - heads = 4 \n",
       " - WQ = Dense(64, 64; bias=false) \n",
       " - WK = Dense(64, 64; bias=false)\n",
       " - WV = Dense(64, 64; bias=false) \n",
       " - WO = Dense(64, 64; bias=false) \n",
       " - attention = slot_attention \n",
       " )  \n",
       " - FF = Dense(64, 64) \n",
       " - LN1 = LayerNorm((64, 1)) \n",
       " - LN2 = LayerNorm((64, 1)) \n",
       " ) , Float32[1.2486424 -0.9406918 … -0.9540901 -0.92040163; 1.0494735 -0.592735 … 1.304619 -0.9012023; … ; -0.12554891 -0.6930172 … -0.6420724 -0.98083204; -0.2573568 -1.1702851 … 1.4623628 -0.2292235])\n",
       " GenerativeMIL.Models.InducedSetAttentionBlock(MultiheadAttentionBlock( \n",
       " - Mulithead = MultiheadAttention(\n",
       " - heads = 4 \n",
       " - WQ = Dense(64, 64; bias=false) \n",
       " - WK = Dense(64, 64; bias=false)\n",
       " - WV = Dense(64, 64; bias=false) \n",
       " - WO = Dense(64, 64; bias=false) \n",
       " - attention = slot_attention \n",
       " )  \n",
       " - FF = Dense(64, 64) \n",
       " - LN1 = LayerNorm((64, 1)) \n",
       " - LN2 = LayerNorm((64, 1)) \n",
       " ) , MultiheadAttentionBlock( \n",
       " - Mulithead = MultiheadAttention(\n",
       " - heads = 4 \n",
       " - WQ = Dense(64, 64; bias=false) \n",
       " - WK = Dense(64, 64; bias=false)\n",
       " - WV = Dense(64, 64; bias=false) \n",
       " - WO = Dense(64, 64; bias=false) \n",
       " - attention = slot_attention \n",
       " )  \n",
       " - FF = Dense(64, 64) \n",
       " - LN1 = LayerNorm((64, 1)) \n",
       " - LN2 = LayerNorm((64, 1)) \n",
       " ) , Float32[0.3461531 1.1417454 … -0.5239875 -0.34711596; 0.5135314 2.5453684 … -0.763578 0.87671995; … ; -0.21571906 -0.94380903 … -0.5432328 -1.3702172; -0.9558857 -0.12168598 … 0.15015426 -1.2501757])\n",
       " GenerativeMIL.Models.InducedSetAttentionBlock(MultiheadAttentionBlock( \n",
       " - Mulithead = MultiheadAttention(\n",
       " - heads = 4 \n",
       " - WQ = Dense(64, 64; bias=false) \n",
       " - WK = Dense(64, 64; bias=false)\n",
       " - WV = Dense(64, 64; bias=false) \n",
       " - WO = Dense(64, 64; bias=false) \n",
       " - attention = slot_attention \n",
       " )  \n",
       " - FF = Dense(64, 64) \n",
       " - LN1 = LayerNorm((64, 1)) \n",
       " - LN2 = LayerNorm((64, 1)) \n",
       " ) , MultiheadAttentionBlock( \n",
       " - Mulithead = MultiheadAttention(\n",
       " - heads = 4 \n",
       " - WQ = Dense(64, 64; bias=false) \n",
       " - WK = Dense(64, 64; bias=false)\n",
       " - WV = Dense(64, 64; bias=false) \n",
       " - WO = Dense(64, 64; bias=false) \n",
       " - attention = slot_attention \n",
       " )  \n",
       " - FF = Dense(64, 64) \n",
       " - LN1 = LayerNorm((64, 1)) \n",
       " - LN2 = LayerNorm((64, 1)) \n",
       " ) , Float32[-1.2595863 0.2994056 -0.23387204 2.0890489; -0.31443933 0.19527832 0.6329958 0.9877879; … ; -0.8325728 0.49473363 1.6549649 -0.87577826; 0.28611737 -0.006858861 1.4224025 -0.9927511])\n",
       " GenerativeMIL.Models.InducedSetAttentionHalfBlock(MultiheadAttentionBlock( \n",
       " - Mulithead = MultiheadAttention(\n",
       " - heads = 4 \n",
       " - WQ = Dense(64, 64; bias=false) \n",
       " - WK = Dense(64, 64; bias=false)\n",
       " - WV = Dense(64, 64; bias=false) \n",
       " - WO = Dense(64, 64; bias=false) \n",
       " - attention = slot_attention \n",
       " )  \n",
       " - FF = Dense(64, 64) \n",
       " - LN1 = LayerNorm((64, 1)) \n",
       " - LN2 = LayerNorm((64, 1)) \n",
       " ) , Float32[-0.23756956; -1.76742; … ; 1.0574; -0.6223275;;])"
      ]
     },
     "execution_count": 100,
     "metadata": {},
     "output_type": "execute_result"
    }
   ],
   "source": [
    "sv.encoder.layers"
   ]
  },
  {
   "cell_type": "code",
   "execution_count": null,
   "id": "18224716",
   "metadata": {},
   "outputs": [],
   "source": []
  }
 ],
 "metadata": {
  "@webio": {
   "lastCommId": null,
   "lastKernelId": null
  },
  "kernelspec": {
   "display_name": "Julia 1.7.2",
   "language": "julia",
   "name": "julia-1.7"
  },
  "language_info": {
   "file_extension": ".jl",
   "mimetype": "application/julia",
   "name": "julia",
   "version": "1.7.2"
  }
 },
 "nbformat": 4,
 "nbformat_minor": 5
}
